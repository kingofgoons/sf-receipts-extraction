{
 "metadata": {
  "language_info": {
   "name": "python"
  },
  "lastEditStatus": {
   "notebookId": "bn6pinjc2igv3zdldeql",
   "authorId": "47643210579",
   "authorName": "ADMIN",
   "authorEmail": "bo.landsman@snowflake.com",
   "sessionId": "8926c716-1997-4129-84b6-43405d1c6be8",
   "lastEditTime": 1761333786603
  }
 },
 "nbformat_minor": 2,
 "nbformat": 4,
 "cells": [
  {
   "cell_type": "markdown",
   "metadata": {
    "name": "cell1"
   },
   "source": [
    "# Receipt Data Extraction: Using AI_EXTRACT for Automatic Structure Detection\n",
    "\n",
    "## Overview\n",
    "This notebook demonstrates how to use Snowflake's AI_EXTRACT function to automatically extract structured information from ad-campaign receipt PDFs. Unlike AI_COMPLETE, AI_EXTRACT automatically detects and extracts structured data without requiring detailed schemas.\n",
    "\n",
    "## What We'll Accomplish\n",
    "- Parse PDF receipts from the `@RECEIPTS_PROCESSING_DB.RAW.RECEIPTS` stage using `AI_PARSE_DOCUMENT`\n",
    "- Extract structured receipt data automatically using `AI_EXTRACT`\n",
    "- Transform unstructured receipt content into structured, analyzable data with minimal configuration\n",
    "\n",
    "## Prerequisites\n",
    "- Access to Snowflake with Cortex AI features enabled\n",
    "- Receipts uploaded to `@RECEIPTS_PROCESSING_DB.RAW.RECEIPTS` stage\n",
    "- RECEIPTS_PROCESSING_DB database and RAW schema configured\n",
    "- Appropriate permissions for the ETL service role\n"
   ],
   "id": "ce110000-1111-2222-3333-ffffff000000"
  },
  {
   "cell_type": "code",
   "execution_count": null,
   "metadata": {
    "name": "cell2",
    "language": "python"
   },
   "outputs": [],
   "source": [
    "# Import python packages\n",
    "import streamlit as st\n",
    "import pandas as pd\n",
    "\n",
    "# Use Snowpark for our analyses\n",
    "from snowflake.snowpark.context import get_active_session\n",
    "session = get_active_session()\n"
   ],
   "id": "ce110000-1111-2222-3333-ffffff000001"
  },
  {
   "cell_type": "markdown",
   "metadata": {
    "name": "cell3",
    "collapsed": false
   },
   "source": "## Step 1: Environment Setup and Session Initialization\n\nSetting up our environment by importing necessary packages and establishing a Snowflake session.\n\n### Key Components:\n- **Streamlit**: For building interactive applications\n- **Pandas**: For data manipulation and analysis\n- **Snowpark Session**: Connection to Snowflake and access to Cortex AI capabilities\n\nThe `get_active_session()` retrieves our Snowflake session for executing SQL and using AI features.\n\n## Step 2: Set Database and Schema Context\nSetting the working context for our session:\n\n- **Database**: `RECEIPTS_PROCESSING_DB` - Our receipt processing database\n- **Schema**: `RAW` - The schema containing our receipts stage\n\nThis ensures all operations execute within the correct context without needing to fully qualify object names.\n",
   "id": "ce110000-1111-2222-3333-ffffff000002"
  },
  {
   "cell_type": "code",
   "execution_count": null,
   "metadata": {
    "name": "cell4",
    "language": "python"
   },
   "outputs": [],
   "source": [
    "session.sql(\"USE ROLE SYSADMIN\").collect()\n",
    "\n",
    "# Set warehouse for AI processing\n",
    "session.sql(\"USE WAREHOUSE RECEIPTS_PARSE_COMPLETE_WH\").collect()\n",
    "\n",
    "session.sql(\"ALTER WAREHOUSE RECEIPTS_PARSE_COMPLETE_WH SET WAREHOUSE_SIZE='XSMALL'\").collect()\n",
    "\n",
    "session.use_database('RECEIPTS_PROCESSING_DB')\n",
    "session.use_schema('RAW')\n"
   ],
   "id": "ce110000-1111-2222-3333-ffffff000003"
  },
  {
   "cell_type": "markdown",
   "metadata": {
    "name": "cell7",
    "collapsed": false
   },
   "source": [
    "## Step 3: Import Processing Libraries\n",
    "\n",
    "Importing libraries for document AI processing:\n",
    "\n",
    "### Key Imports:\n",
    "- **JSON**: For handling structured data extracted by AI_EXTRACT\n",
    "\n",
    "Note: AI_EXTRACT requires minimal configuration compared to AI_COMPLETE, so we don't need Pydantic schemas or complex prompt management.\n"
   ],
   "id": "ce110000-1111-2222-3333-ffffff000006"
  },
  {
   "cell_type": "code",
   "execution_count": null,
   "metadata": {
    "name": "imports",
    "language": "python"
   },
   "outputs": [],
   "source": [
    "import json\n"
   ],
   "id": "ce110000-1111-2222-3333-ffffff000005"
  },
  {
   "cell_type": "markdown",
   "metadata": {
    "name": "cell9"
   },
   "source": [
    "## Step 4: Explore Available Receipts\n",
    "\n",
    "Before processing, let's see what receipt files are available in our stage.\n",
    "\n",
    "### What This Shows:\n",
    "- File names and paths of receipts ready for processing\n",
    "- File sizes and metadata\n",
    "- Upload timestamps\n",
    "\n",
    "The `DIRECTORY()` function provides a view of all files in the `@RECEIPTS_PROCESSING_DB.RAW.RECEIPTS` stage, essential for understanding our data source.\n"
   ],
   "id": "ce110000-1111-2222-3333-ffffff000008"
  },
  {
   "cell_type": "code",
   "execution_count": null,
   "metadata": {
    "vscode": {
     "languageId": "snowflake-sql"
    },
    "name": "view_receipts",
    "language": "python"
   },
   "outputs": [],
   "source": [
    "--REMOVE @RECEIPTS_PROCESSING_DB.RAW.RECEIPTS; -- REMOVES ALL FILES FROM THE STAGE\n",
    "ALTER STAGE RECEIPTS_PROCESSING_DB.RAW.RECEIPTS REFRESH;\n",
    "SELECT * FROM DIRECTORY(@RECEIPTS_PROCESSING_DB.RAW.RECEIPTS);\n"
   ],
   "id": "ce110000-1111-2222-3333-ffffff000007"
  },
  {
   "cell_type": "markdown",
   "metadata": {
    "name": "cell15",
    "collapsed": false
   },
   "source": [
    "## Step 7: Define Extraction Fields\n",
    "\n",
    "With AI_EXTRACT, we simply list the fields we want to extract. The AI automatically:\n",
    "- Identifies these fields in the document\n",
    "- Determines appropriate data types\n",
    "- Extracts values without needing detailed schemas or prompts\n",
    "\n",
    "This is much simpler than AI_COMPLETE which requires detailed JSON schemas and prompts.\n"
   ],
   "id": "ce110000-1111-2222-3333-ffffff000014"
  },
  {
   "cell_type": "code",
   "execution_count": null,
   "metadata": {
    "name": "define_fields",
    "language": "python"
   },
   "outputs": [],
   "source": [
    "# Define what fields we want AI_EXTRACT to find\n",
    "# AI_EXTRACT automatically identifies and extracts these without needing detailed schemas\n",
    "extraction_fields = [\n",
    "    'vendor_name',\n",
    "    'receipt_id',\n",
    "    'transaction_date',\n",
    "    'payment_method',\n",
    "    'customer_name',\n",
    "    'company_name',\n",
    "    'campaign_name',\n",
    "    'period_startdate',\n",
    "    'period_enddate',\n",
    "    'content_types',\n",
    "    'ad_formats',\n",
    "    'subtotal',\n",
    "    'tax',\n",
    "    'total',\n",
    "    'cpm',\n",
    "    'ctr',\n",
    "    'bounce_rate',\n",
    "    'pricing_model',\n",
    "    'daily_budget',\n",
    "    'total_budget',\n",
    "    'geography',\n",
    "    'demographics',\n",
    "    'age_range',\n",
    "    'devices'\n",
    "]\n",
    "\n",
    "print(f\"Will extract {len(extraction_fields)} fields using AI_EXTRACT\")\n"
   ],
   "id": "ce110000-1111-2222-3333-ffffff000013"
  },
  {
   "cell_type": "code",
   "id": "a730bdd2-c1e4-43db-9be6-eb6416d0012a",
   "metadata": {
    "language": "python",
    "name": "define_fields_alt"
   },
   "outputs": [],
   "source": "resp_schema = \"\"\"\n{\n    'type': 'json',\n    'schema': {\n        'type': 'object',\n        'properties': {\n            'vendor': {\n                'type': 'object',\n                'properties': {\n                    'vendor_name': {'type': 'string'}\n                },\n                'required': ['vendor_name']\n            },\n            'transaction': {\n                'type': 'object',\n                'properties': {\n                    'receipt_id': {'type': 'string'},\n                    'date': {'type': 'string'},\n                    'payment_method': {'type': 'string'}\n                },\n                'required': ['receipt_id', 'date', 'payment_method']\n            },\n            'customer': {\n                'type': 'object',\n                'properties': {\n                    'customer_name': {'type': 'string'},\n                    'company_name': {'type': 'string'}\n                },\n                'required': ['company_name']\n            },\n            'campaign': {\n                'type': 'object',\n                'properties': {\n                    'name': {'type': 'string'},\n                    'content_types': {'type': 'string'},\n                    'ad_formats': {'type': 'array'},\n                    'period_startdate': {'type': 'string'},\n                    'period_enddate': {'type': 'string'},\n                    'budget': {'type':'number'}\n                },\n                'required': ['name', 'content_types', 'ad_formats', 'period_startdate', 'period_enddate']\n            },\n            'financials': {\n                'type': 'object',\n                'properties': {\n                    'line_items': {'type': 'object'},\n                    'subtotal': {'type': 'number'},\n                    'tax': {'type': 'number'},\n                    'total': {'type': 'number'}\n                },\n                'required': ['total', 'line_items', 'subtotal', 'tax']\n            },\n            'metrics': {\n                'type': 'object',\n                'properties': {\n                    'cpm': {'type': 'string', 'description':'Cost Per Milli, abbreviated as CPM'},\n                    'ctr': {'type': 'string', 'description':'Click-through rate, abbreviated as CTR'},\n                    'bounce_rate': {'type': 'string', 'description':'Bounce Rate, sometimes just referred to as Bounce, a % value'},\n                    'targets': {'type': 'object'},\n                    'pricing_model': {'type': 'string'}\n                },\n                'required': ['cpm', 'ctr', 'bounce_rate', 'targets', 'pricing_model']\n            },\n            'budget':{\n                'type': 'object',\n                'properties': {\n                    'daily_budget': {'type': 'string'},\n                    'total_budget': {'type': 'string'}\n                },\n                'required': ['daily_budget', 'total_budget']\n            },\n            'targeting': {\n                'type': 'object',\n                'properties': {\n                    'geography': {'type': 'array'},\n                    'demographics': {'type': 'string'},\n                    'age_range': {'type': 'string'},\n                    'devices': {'type': 'string'}\n                },\n                'required': ['geography', 'demographics', 'age_range', 'devices']\n            }\n        },\n        'required': ['vendor', 'transaction', 'customer', 'campaign', 'financials', 'metrics', 'budget', 'targeting']\n    }\n}\n\"\"\"\n",
   "execution_count": null
  },
  {
   "cell_type": "markdown",
   "metadata": {
    "name": "cell18"
   },
   "source": [
    "## Step 8: Extract Structured Data with AI_EXTRACT (Incremental)\n",
    "\n",
    "Using Snowflake's AI_EXTRACT to automatically extract structured receipt data - only processing newly parsed receipts.\n",
    "\n",
    "### Incremental Extraction:\n",
    "- **CREATE TABLE IF NOT EXISTS**: Preserves existing extracted data\n",
    "- **INSERT INTO**: Adds only new extractions\n",
    "- **WHERE NOT IN**: Only processes receipts not already in extracted_receipt_data_via_ai_extract\n",
    "- **Saves Costs**: Avoids re-running expensive AI_EXTRACT on same receipts\n",
    "\n",
    "### AI_EXTRACT vs AI_COMPLETE:\n",
    "- ✅ **Simpler**: No need for complex prompts or JSON schemas\n",
    "- ✅ **Automatic**: AI determines data types and extraction logic\n",
    "- ✅ **Flexible**: Just provide field names, AI handles the rest\n",
    "\n",
    "The AI reads each new receipt and automatically extracts vendor details, transaction info, campaign details, financial totals, performance metrics, and targeting parameters into structured data.\n"
   ],
   "id": "ce110000-1111-2222-3333-ffffff000017"
  },
  {
   "cell_type": "code",
   "execution_count": null,
   "metadata": {
    "name": "build_query",
    "language": "python",
    "codeCollapsed": false
   },
   "outputs": [],
   "source": "# Create extracted_receipt_data_via_ai_extract table if it doesn't exist\nsession.sql(\"\"\"\nCREATE TABLE IF NOT EXISTS extracted_receipt_data_via_ai_extract (\n    relative_path STRING,\n    content STRING,\n    extracted_data VARIANT\n)\n\"\"\").collect()\n\n# Build field list for AI_EXTRACT\nfields_str = ', '.join([f\"'{field}'\" for field in extraction_fields])\n\n# Only extract data from newly parsed receipts\nquery = f\"\"\"\nINSERT INTO extracted_receipt_data_via_ai_extract\nSELECT\n    relative_path,\n    content,\n    AI_EXTRACT(\n        content,\n        ARRAY_CONSTRUCT({fields_str})\n    ) as extracted_data\nFROM parsed_receipts\nWHERE relative_path NOT IN (SELECT relative_path FROM extracted_receipt_data_via_ai_extract)\n\"\"\"\n\nprint(\"Query prepared for AI_EXTRACT processing\")\n",
   "id": "ce110000-1111-2222-3333-ffffff000015"
  },
  {
   "cell_type": "code",
   "execution_count": null,
   "metadata": {
    "name": "cell17",
    "language": "python"
   },
   "outputs": [],
   "source": [
    "result = session.sql(query).collect()\n",
    "# Get the actual number of rows inserted from the result metadata\n",
    "rows_inserted = result[0]['number of rows inserted'] if result else 0\n",
    "print(f\"✓ Extracted data from {rows_inserted} new receipt(s) using AI_EXTRACT\")\n"
   ],
   "id": "ce110000-1111-2222-3333-ffffff000016"
  },
  {
   "cell_type": "code",
   "execution_count": null,
   "metadata": {
    "name": "cell19",
    "language": "python"
   },
   "outputs": [],
   "source": [
    "# View the extracted data\n",
    "result_df = session.table('extracted_receipt_data_via_ai_extract').to_pandas()\n",
    "result_df.head()\n"
   ],
   "id": "ce110000-1111-2222-3333-ffffff000018"
  },
  {
   "cell_type": "markdown",
   "metadata": {
    "name": "cell20"
   },
   "source": [
    "## Step 9: Preview Extracted Receipt Data\n",
    "\n",
    "Each row contains a complete structured representation of a receipt with all extracted fields in VARIANT format, ready for flattening and analysis.\n"
   ],
   "id": "ce110000-1111-2222-3333-ffffff000019"
  },
  {
   "cell_type": "code",
   "execution_count": null,
   "metadata": {
    "name": "cell21",
    "language": "python"
   },
   "outputs": [],
   "source": [
    "# Parse and flatten the extracted data for analysis\n",
    "flattened_df = session.sql(\"\"\"\n",
    "SELECT\n",
    "    relative_path,\n",
    "    extracted_data:vendor_name::STRING AS vendor_name,\n",
    "    extracted_data:receipt_id::STRING AS receipt_id,\n",
    "    TRY_TO_DATE(extracted_data:transaction_date::STRING) AS transaction_date,\n",
    "    extracted_data:payment_method::STRING AS payment_method,\n",
    "    extracted_data:company_name::STRING AS company_name,\n",
    "    extracted_data:campaign_name::STRING AS campaign_name,\n",
    "    TRY_TO_DATE(extracted_data:period_startdate::STRING) AS period_startdate,\n",
    "    TRY_TO_DATE(extracted_data:period_enddate::STRING) AS period_enddate,\n",
    "    extracted_data:content_types::STRING AS content_types,\n",
    "    TRY_TO_DECIMAL(REPLACE(REPLACE(extracted_data:total::STRING, '$', ''), ',', ''), 10, 2) AS total_amount,\n",
    "    TRY_TO_DECIMAL(REPLACE(extracted_data:cpm::STRING, '$', ''), 10, 2) AS cpm,\n",
    "    TRY_TO_DECIMAL(REPLACE(extracted_data:ctr::STRING, '%', ''), 10, 2) AS ctr,\n",
    "    TRY_TO_DECIMAL(REPLACE(extracted_data:bounce_rate::STRING, '%', ''), 10, 2) AS bounce_rate,\n",
    "    extracted_data:pricing_model::STRING AS pricing_model,\n",
    "    TRY_TO_DECIMAL(REPLACE(REPLACE(extracted_data:daily_budget::STRING, '$', ''), ',', ''), 10, 2) AS daily_budget,\n",
    "    TRY_TO_DECIMAL(REPLACE(REPLACE(extracted_data:total_budget::STRING, '$', ''), ',', ''), 10, 2) AS total_budget\n",
    "FROM extracted_receipt_data_via_ai_extract\n",
    "\"\"\").to_pandas()\n",
    "\n",
    "flattened_df.head(10)\n"
   ],
   "id": "ce110000-1111-2222-3333-ffffff000020"
  },
  {
   "cell_type": "markdown",
   "metadata": {
    "name": "cell22"
   },
   "source": [
    "## Step 10: Flatten and Query Extracted Data\n",
    "\n",
    "Converting nested VARIANT data into a flat table showing key receipt fields including vendor, transaction date, campaign details, total amount, and performance metrics.\n"
   ],
   "id": "ce110000-1111-2222-3333-ffffff000021"
  },
  {
   "cell_type": "code",
   "execution_count": null,
   "metadata": {
    "name": "cell23",
    "language": "python"
   },
   "outputs": [],
   "source": [
    "# Create a view with flattened receipt data\n",
    "# Strip non-numeric characters ($, %, commas) before converting to numbers\n",
    "session.sql(\"\"\"\n",
    "CREATE OR REPLACE VIEW receipt_analytics_ai_extract_vw AS\n",
    "SELECT\n",
    "    relative_path AS receipt_filename,\n",
    "    extracted_data:vendor_name::STRING AS vendor_name,\n",
    "    extracted_data:receipt_id::STRING AS receipt_id,\n",
    "    TRY_TO_DATE(extracted_data:transaction_date::STRING) AS transaction_date,\n",
    "    extracted_data:payment_method::STRING AS payment_method,\n",
    "    extracted_data:company_name::STRING AS company_name,\n",
    "    extracted_data:customer_name::STRING AS customer_name,\n",
    "    extracted_data:campaign_name::STRING AS campaign_name,\n",
    "    TRY_TO_DATE(extracted_data:period_startdate::STRING) AS period_startdate,\n",
    "    TRY_TO_DATE(extracted_data:period_enddate::STRING) AS period_enddate,\n",
    "    extracted_data:content_types::STRING AS content_types,\n",
    "    -- Strip $ and , from financial values and preserve decimals\n",
    "    TRY_TO_DECIMAL(REPLACE(REPLACE(extracted_data:subtotal::STRING, '$', ''), ',', ''), 10, 2) AS subtotal,\n",
    "    TRY_TO_DECIMAL(REPLACE(REPLACE(extracted_data:tax::STRING, '$', ''), ',', ''), 10, 2) AS tax,\n",
    "    TRY_TO_DECIMAL(REPLACE(REPLACE(extracted_data:total::STRING, '$', ''), ',', ''), 10, 2) AS total_amount,\n",
    "    -- Strip $ from CPM and preserve decimals\n",
    "    TRY_TO_DECIMAL(REPLACE(extracted_data:cpm::STRING, '$', ''), 10, 2) AS cpm,\n",
    "    -- Strip % from CTR and Bounce Rate and preserve decimals\n",
    "    TRY_TO_DECIMAL(REPLACE(extracted_data:ctr::STRING, '%', ''), 10, 2) AS ctr_percent,\n",
    "    TRY_TO_DECIMAL(REPLACE(extracted_data:bounce_rate::STRING, '%', ''), 10, 2) AS bounce_rate_percent,\n",
    "    extracted_data:pricing_model::STRING AS pricing_model,\n",
    "    -- Strip $ and , from budget values and preserve decimals\n",
    "    TRY_TO_DECIMAL(REPLACE(REPLACE(extracted_data:daily_budget::STRING, '$', ''), ',', ''), 10, 2) AS daily_budget,\n",
    "    TRY_TO_DECIMAL(REPLACE(REPLACE(extracted_data:total_budget::STRING, '$', ''), ',', ''), 10, 2) AS campaign_budget,\n",
    "    extracted_data:age_range::STRING AS age_range,\n",
    "    CURRENT_TIMESTAMP() AS processed_at\n",
    "FROM extracted_receipt_data_via_ai_extract\n",
    "\"\"\").collect()\n",
    "\n",
    "print(\"✓ receipt_analytics_ai_extract_vw created successfully!\")\n"
   ],
   "id": "ce110000-1111-2222-3333-ffffff000022"
  },
  {
   "cell_type": "code",
   "execution_count": null,
   "metadata": {
    "vscode": {
     "languageId": "sql"
    },
    "name": "cell24",
    "language": "sql"
   },
   "outputs": [],
   "source": [
    "SELECT * FROM receipt_analytics_ai_extract_vw LIMIT 10;\n"
   ],
   "id": "ce110000-1111-2222-3333-ffffff000023"
  },
  {
   "cell_type": "markdown",
   "metadata": {
    "name": "cell25"
   },
   "source": [
    "## Step 11: Create Analytics View\n",
    "\n",
    "Creating a view with flattened receipt data for analytics with proper type conversion, descriptive column names, and processing timestamp. Ready for dashboards and reporting!\n"
   ],
   "id": "ce110000-1111-2222-3333-ffffff000024"
  },
  {
   "cell_type": "markdown",
   "metadata": {
    "name": "cell26"
   },
   "source": [],
   "id": "ce110000-1111-2222-3333-ffffff000025"
  },
  {
   "cell_type": "code",
   "execution_count": null,
   "metadata": {
    "name": "cell27",
    "language": "python"
   },
   "outputs": [],
   "source": [
    "# Example analytics: Spending by vendor\n",
    "session.sql(\"\"\"\n",
    "SELECT \n",
    "    vendor_name,\n",
    "    COUNT(*) AS receipt_count,\n",
    "    SUM(total_amount) AS total_spending,\n",
    "    AVG(total_amount) AS avg_receipt_amount,\n",
    "    AVG(cpm) AS avg_cpm,\n",
    "    AVG(ctr_percent) AS avg_ctr\n",
    "FROM receipt_analytics_ai_extract_vw\n",
    "GROUP BY vendor_name\n",
    "ORDER BY total_spending DESC\n",
    "\"\"\").to_pandas()\n"
   ],
   "id": "ce110000-1111-2222-3333-ffffff000026"
  },
  {
   "cell_type": "markdown",
   "metadata": {
    "name": "cell28"
   },
   "source": [
    "## Step 12: Analyze Spending by Vendor\n",
    "\n",
    "Analyzing receipt count, total spending, average amounts, and performance metrics (CPM, CTR) by vendor to identify top advertising partners and their performance.\n"
   ],
   "id": "ce110000-1111-2222-3333-ffffff000027"
  },
  {
   "cell_type": "code",
   "execution_count": null,
   "metadata": {
    "name": "cell29",
    "language": "python"
   },
   "outputs": [],
   "source": [
    "# Campaign type analysis\n",
    "session.sql(\"\"\"\n",
    "SELECT \n",
    "    content_types,\n",
    "    COUNT(*) AS campaign_count,\n",
    "    AVG(total_amount) AS avg_spending,\n",
    "    AVG(cpm) AS avg_cpm,\n",
    "    AVG(ctr_percent) AS avg_ctr,\n",
    "    AVG(bounce_rate_percent) AS avg_bounce_rate\n",
    "FROM receipt_analytics_ai_extract_vw\n",
    "WHERE content_types IS NOT NULL\n",
    "GROUP BY content_types\n",
    "ORDER BY campaign_count DESC\n",
    "\"\"\").to_pandas()\n"
   ],
   "id": "ce110000-1111-2222-3333-ffffff000028"
  },
  {
   "cell_type": "markdown",
   "metadata": {
    "name": "cell30"
   },
   "source": [
    "## Step 13: Analyze by Campaign Content Type\n",
    "\n",
    "Comparing performance between Display, Video, and mixed campaigns to optimize content strategy and budget allocation.\n"
   ],
   "id": "ce110000-1111-2222-3333-ffffff000029"
  },
  {
   "cell_type": "code",
   "execution_count": null,
   "metadata": {
    "name": "cell31",
    "language": "python"
   },
   "outputs": [],
   "source": [
    "# Performance metrics by pricing model\n",
    "session.sql(\"\"\"\n",
    "SELECT \n",
    "    pricing_model,\n",
    "    COUNT(*) AS receipt_count,\n",
    "    AVG(cpm) AS avg_cpm,\n",
    "    AVG(ctr_percent) AS avg_ctr,\n",
    "    AVG(bounce_rate_percent) AS avg_bounce_rate,\n",
    "    SUM(total_amount) AS total_spending\n",
    "FROM receipt_analytics_ai_extract_vw\n",
    "WHERE pricing_model IS NOT NULL\n",
    "GROUP BY pricing_model\n",
    "ORDER BY receipt_count DESC\n",
    "\"\"\").to_pandas()\n"
   ],
   "id": "ce110000-1111-2222-3333-ffffff000030"
  },
  {
   "cell_type": "markdown",
   "metadata": {
    "name": "cell32"
   },
   "source": [
    "## Step 14: Analyze by Pricing Model\n",
    "\n",
    "Understanding performance across different pricing models (CPM, CPC, CPA, CPV, Flat Rate) to determine which delivers the best ROI.\n"
   ],
   "id": "ce110000-1111-2222-3333-ffffff000031"
  },
  {
   "cell_type": "markdown",
   "metadata": {
    "name": "cell33"
   },
   "source": [
    "## Summary\n",
    "\n",
    "### What We've Accomplished:\n",
    "\n",
    "1. ✅ **Parsed Receipts**: Extracted text from PDF receipts using AI_PARSE_DOCUMENT\n",
    "2. ✅ **Automatic Extraction**: Used AI_EXTRACT to automatically identify and extract structured data\n",
    "3. ✅ **Analytics View**: Created `receipt_analytics_ai_extract_vw` with flattened, queryable data\n",
    "4. ✅ **Generated Insights**: Analyzed spending, performance, and campaign metrics\n",
    "\n",
    "### Key Metrics Captured:\n",
    "- **Financial**: Subtotal, tax, total amounts\n",
    "- **Performance**: CPM, CTR, Bounce Rate\n",
    "- **Campaign**: Display formats, video placements, targeting\n",
    "- **Budget**: Daily and total campaign budgets\n",
    "\n",
    "### AI_EXTRACT Advantages:\n",
    "- ✅ **Simpler Setup**: No complex schemas or prompts needed\n",
    "- ✅ **Automatic Detection**: AI identifies field types and structures\n",
    "- ✅ **Flexible**: Just specify field names, AI handles extraction logic\n",
    "- ✅ **Faster Development**: Less configuration means faster implementation\n",
    "\n",
    "### Tables & Views Created:\n",
    "1. `parsed_receipts` - Raw parsed text from PDFs (shared with AI_COMPLETE approach)\n",
    "2. `extracted_receipt_data_via_ai_extract` - Structured data extracted with AI_EXTRACT\n",
    "3. `receipt_analytics_ai_extract_vw` - Flattened, analytics-ready view\n",
    "\n",
    "---\n",
    "\n",
    "**Your receipt data is now structured with AI_EXTRACT, queryable, and ready for analysis!** 📊\n"
   ],
   "id": "ce110000-1111-2222-3333-ffffff000032"
  }
 ]
}