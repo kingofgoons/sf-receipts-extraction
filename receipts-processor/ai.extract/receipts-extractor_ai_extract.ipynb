{
 "cells": [
  {
   "cell_type": "markdown",
   "id": "ce110000-1111-2222-3333-ffffff000000",
   "metadata": {
    "collapsed": false,
    "name": "cell1"
   },
   "source": [
    "# Receipt Data Extraction: Using AI_EXTRACT for Direct PDF Processing\n",
    "\n",
    "## Overview\n",
    "This notebook demonstrates how to use Snowflake's AI_EXTRACT function to directly extract structured information from ad-campaign receipt PDFs on a Snowflake stage. AI_EXTRACT can process PDF files directly without requiring a separate parsing step.\n",
    "\n",
    "## What We'll Accomplish\n",
    "- Extract structured receipt data directly from PDF files using `AI_EXTRACT` with the `file` parameter\n",
    "- Transform PDF receipts into structured, analyzable data in a single step\n",
    "- Create analytics views for reporting and insights\n",
    "\n",
    "## Prerequisites\n",
    "- Access to Snowflake with Cortex AI features enabled\n",
    "- Receipts uploaded to `@RECEIPTS_PROCESSING_DB.RAW.RECEIPTS` stage\n",
    "- RECEIPTS_PROCESSING_DB database and RAW schema configured\n",
    "- Appropriate permissions for the ETL service role\n"
   ]
  },
  {
   "cell_type": "code",
   "execution_count": null,
   "id": "ce110000-1111-2222-3333-ffffff000001",
   "metadata": {
    "language": "python",
    "name": "session_init"
   },
   "outputs": [],
   "source": [
    "# Import python packages\n",
    "import streamlit as st\n",
    "import pandas as pd\n",
    "\n",
    "# Use Snowpark for our analyses\n",
    "from snowflake.snowpark.context import get_active_session\n",
    "session = get_active_session()\n"
   ]
  },
  {
   "cell_type": "markdown",
   "id": "ce110000-1111-2222-3333-ffffff000002",
   "metadata": {
    "collapsed": false,
    "name": "cell3"
   },
   "source": [
    "## Step 1: Environment Setup and Session Initialization\n",
    "\n",
    "Setting up our environment by importing necessary packages and establishing a Snowflake session.\n",
    "\n",
    "### Key Components:\n",
    "- **Streamlit**: For building interactive applications\n",
    "- **Pandas**: For data manipulation and analysis\n",
    "- **Snowpark Session**: Connection to Snowflake and access to Cortex AI capabilities\n",
    "\n",
    "The `get_active_session()` retrieves our Snowflake session for executing SQL and using AI features.\n",
    "\n",
    "## Step 2: Set Database and Schema Context\n",
    "Setting the working context for our session:\n",
    "\n",
    "- **Database**: `RECEIPTS_PROCESSING_DB` - Our receipt processing database\n",
    "- **Schema**: `RAW` - The schema containing our receipts stage\n",
    "\n",
    "This ensures all operations execute within the correct context without needing to fully qualify object names.\n"
   ]
  },
  {
   "cell_type": "code",
   "execution_count": null,
   "id": "ce110000-1111-2222-3333-ffffff000003",
   "metadata": {
    "language": "python",
    "name": "init_context"
   },
   "outputs": [],
   "source": [
    "session.sql(\"USE ROLE SYSADMIN\").collect()\n",
    "\n",
    "# Set warehouse for AI processing\n",
    "session.sql(\"USE WAREHOUSE RECEIPTS_PARSE_COMPLETE_WH\").collect()\n",
    "\n",
    "session.sql(\"ALTER WAREHOUSE RECEIPTS_PARSE_COMPLETE_WH SET WAREHOUSE_SIZE='XSMALL'\").collect()\n",
    "\n",
    "session.use_database('RECEIPTS_PROCESSING_DB')\n",
    "session.use_schema('RAW')\n"
   ]
  },
  {
   "cell_type": "markdown",
   "id": "ce110000-1111-2222-3333-ffffff000006",
   "metadata": {
    "collapsed": false,
    "name": "cell7"
   },
   "source": [
    "## Step 3: Import Processing Libraries\n",
    "\n",
    "Importing libraries for document AI processing:\n",
    "\n",
    "### Key Imports:\n",
    "- **JSON**: For handling structured data extracted by AI_EXTRACT\n",
    "\n",
    "Note: AI_EXTRACT requires minimal configuration compared to AI_COMPLETE, so we don't need Pydantic schemas or complex prompt management.\n"
   ]
  },
  {
   "cell_type": "code",
   "execution_count": null,
   "id": "ce110000-1111-2222-3333-ffffff000005",
   "metadata": {
    "language": "python",
    "name": "imports"
   },
   "outputs": [],
   "source": [
    "#import json\n"
   ]
  },
  {
   "cell_type": "markdown",
   "id": "ce110000-1111-2222-3333-ffffff000008",
   "metadata": {
    "name": "cell9"
   },
   "source": [
    "## Step 4: Explore Available Receipts\n",
    "\n",
    "Before processing, let's see what receipt files are available in our stage.\n",
    "\n",
    "### What This Shows:\n",
    "- File names and paths of receipts ready for processing\n",
    "- File sizes and metadata\n",
    "- Upload timestamps\n",
    "\n",
    "The `DIRECTORY()` function provides a view of all files in the `@RECEIPTS_PROCESSING_DB.RAW.RECEIPTS` stage, essential for understanding our data source.\n"
   ]
  },
  {
   "cell_type": "code",
   "execution_count": null,
   "id": "ce110000-1111-2222-3333-ffffff000007",
   "metadata": {
    "language": "sql",
    "name": "view_receipts",
    "vscode": {
     "languageId": "snowflake-sql"
    }
   },
   "outputs": [],
   "source": [
    "--REMOVE @RECEIPTS_PROCESSING_DB.RAW.RECEIPTS; -- REMOVES ALL FILES FROM THE STAGE\n",
    "ALTER STAGE RECEIPTS_PROCESSING_DB.RAW.RECEIPTS REFRESH;\n",
    "SELECT * FROM DIRECTORY(@RECEIPTS_PROCESSING_DB.RAW.RECEIPTS);\n"
   ]
  },
  {
   "cell_type": "markdown",
   "id": "ce110000-1111-2222-3333-ffffff000014",
   "metadata": {
    "collapsed": false,
    "name": "cell15"
   },
   "source": [
    "## Step 5: Define Response Schema\n",
    "\n",
    "AI_EXTRACT supports structured JSON schemas via the `responseFormat` parameter. This allows us to:\n",
    "- Define nested object structures (vendor, transaction, customer, campaign, etc.)\n",
    "- Specify field types and requirements  \n",
    "- Add descriptions to guide extraction\n",
    "- Ensure consistent output format\n",
    "\n",
    "The `resp_schema` defines the complete structure for our receipt data extraction."
   ]
  },
  {
   "cell_type": "code",
   "execution_count": null,
   "id": "a730bdd2-c1e4-43db-9be6-eb6416d0012a",
   "metadata": {
    "language": "python",
    "name": "define_fields"
   },
   "outputs": [],
   "source": [
    "# Complete JSON schema for AI_EXTRACT - all fields as type: 'array'\n",
    "resp_schema = \"\"\"\n",
    "{\n",
    "    'schema': {\n",
    "        'type': 'object',\n",
    "        'properties': {\n",
    "            'vendor': {\n",
    "                'description': 'Vendor or advertising service provider information',\n",
    "                'type': 'object',\n",
    "                'properties': {\n",
    "                    'vendor_name': {\n",
    "                        'description': 'Name of the vendor',\n",
    "                        'type': 'array'\n",
    "                    }\n",
    "                }\n",
    "            },\n",
    "            'transaction': {\n",
    "                'description': 'Transaction and receipt details',\n",
    "                'type': 'object',\n",
    "                'properties': {\n",
    "                    'receipt_id': {\n",
    "                        'description': 'Receipt or invoice ID number',\n",
    "                        'type': 'array'\n",
    "                    },\n",
    "                    'date': {\n",
    "                        'description': 'Date of the transaction',\n",
    "                        'type': 'array'\n",
    "                    },\n",
    "                    'payment_method': {\n",
    "                        'description': 'Payment method used',\n",
    "                        'type': 'array'\n",
    "                    }\n",
    "                }\n",
    "            },\n",
    "            'customer': {\n",
    "                'description': 'Customer or client information',\n",
    "                'type': 'object',\n",
    "                'properties': {\n",
    "                    'customer_name': {\n",
    "                        'description': 'Name of the customer contact',\n",
    "                        'type': 'array'\n",
    "                    },\n",
    "                    'company_name': {\n",
    "                        'description': 'Name of the customer company',\n",
    "                        'type': 'array'\n",
    "                    }\n",
    "                }\n",
    "            },\n",
    "            'campaign': {\n",
    "                'description': 'Advertising campaign details',\n",
    "                'type': 'object',\n",
    "                'properties': {\n",
    "                    'name': {\n",
    "                        'description': 'Name of the advertising campaign',\n",
    "                        'type': 'array'\n",
    "                    },\n",
    "                    'content_types': {\n",
    "                        'description': 'Types of content (Display, Video, etc.)',\n",
    "                        'type': 'array'\n",
    "                    },\n",
    "                    'ad_formats': {\n",
    "                        'description': 'Ad formats used in the campaign',\n",
    "                        'type': 'array'\n",
    "                    },\n",
    "                    'period_startdate': {\n",
    "                        'description': 'Campaign period start date',\n",
    "                        'type': 'array'\n",
    "                    },\n",
    "                    'period_enddate': {\n",
    "                        'description': 'Campaign period end date',\n",
    "                        'type': 'array'\n",
    "                    }\n",
    "                }\n",
    "            },\n",
    "            'financials': {\n",
    "                'description': 'Financial details from the receipt',\n",
    "                'type': 'object',\n",
    "                'properties': {\n",
    "                    'line_items': {\n",
    "                        'description': 'Individual line items on the receipt',\n",
    "                        'type': 'array'\n",
    "                    },\n",
    "                    'subtotal': {\n",
    "                        'description': 'Subtotal amount before tax',\n",
    "                        'type': 'array'\n",
    "                    },\n",
    "                    'tax': {\n",
    "                        'description': 'Tax amount',\n",
    "                        'type': 'array'\n",
    "                    },\n",
    "                    'total': {\n",
    "                        'description': 'Total amount charged',\n",
    "                        'type': 'array'\n",
    "                    }\n",
    "                }\n",
    "            },\n",
    "            'metrics': {\n",
    "                'description': 'Campaign performance metrics',\n",
    "                'type': 'object',\n",
    "                'properties': {\n",
    "                    'cpm': {\n",
    "                        'description': 'Cost per thousand impressions (CPM)',\n",
    "                        'type': 'array'\n",
    "                    },\n",
    "                    'ctr': {\n",
    "                        'description': 'Click-through rate (CTR)',\n",
    "                        'type': 'array'\n",
    "                    },\n",
    "                    'bounce_rate': {\n",
    "                        'description': 'Bounce rate percentage',\n",
    "                        'type': 'array'\n",
    "                    },\n",
    "                    'targets': {\n",
    "                        'description': 'Target impressions and clicks',\n",
    "                        'type': 'array'\n",
    "                    },\n",
    "                    'pricing_model': {\n",
    "                        'description': 'Pricing model used (CPM, CPC, etc.)',\n",
    "                        'type': 'array'\n",
    "                    }\n",
    "                }\n",
    "            },\n",
    "            'budget': {\n",
    "                'description': 'Budget information',\n",
    "                'type': 'object',\n",
    "                'properties': {\n",
    "                    'daily_budget': {\n",
    "                        'description': 'Daily budget amount',\n",
    "                        'type': 'array'\n",
    "                    },\n",
    "                    'total_budget': {\n",
    "                        'description': 'Total campaign budget',\n",
    "                        'type': 'array'\n",
    "                    }\n",
    "                }\n",
    "            },\n",
    "            'targeting': {\n",
    "                'description': 'Campaign targeting parameters',\n",
    "                'type': 'object',\n",
    "                'properties': {\n",
    "                    'geography': {\n",
    "                        'description': 'Geographic targeting locations',\n",
    "                        'type': 'array'\n",
    "                    },\n",
    "                    'demographics': {\n",
    "                        'description': 'Demographic targeting criteria',\n",
    "                        'type': 'array'\n",
    "                    },\n",
    "                    'age_range': {\n",
    "                        'description': 'Age range targeting',\n",
    "                        'type': 'array'\n",
    "                    },\n",
    "                    'devices': {\n",
    "                        'description': 'Device targeting',\n",
    "                        'type': 'array'\n",
    "                    }\n",
    "                }\n",
    "            }\n",
    "        }\n",
    "    }\n",
    "}\n",
    "\"\"\""
   ]
  },
  {
   "cell_type": "code",
   "execution_count": null,
   "metadata": {},
   "outputs": [],
   "source": [
    "# Response schema for V2 receipts (with pricing tables)\n",
    "# This schema extracts the PRICING section containing multiple tables\n",
    "# Each table has a name and a list of markets with their attributes\n",
    "resp_schema_v2 = \"\"\"\n",
    "{\n",
    "    'schema': {\n",
    "        'type': 'object',\n",
    "        'properties': {\n",
    "            'vendor_name': {\n",
    "                'description': 'Name of the vendor or advertising service provider',\n",
    "                'type': 'array'\n",
    "            },\n",
    "            'transaction_id': {\n",
    "                'description': 'Transaction or invoice ID',\n",
    "                'type': 'array'\n",
    "            },\n",
    "            'transaction_date': {\n",
    "                'description': 'Date of the transaction',\n",
    "                'type': 'array'\n",
    "            },\n",
    "            'payment_method': {\n",
    "                'description': 'Payment method used',\n",
    "                'type': 'array'\n",
    "            },\n",
    "            'customer_name': {\n",
    "                'description': 'Name of the customer contact',\n",
    "                'type': 'array'\n",
    "            },\n",
    "            'company_name': {\n",
    "                'description': 'Name of the customer company',\n",
    "                'type': 'array'\n",
    "            },\n",
    "            'campaign_name': {\n",
    "                'description': 'Name of the advertising campaign',\n",
    "                'type': 'array'\n",
    "            },\n",
    "            'pricing_section': {\n",
    "                'description': 'PRICING section containing all pricing tables',\n",
    "                'type': 'object',\n",
    "                'properties': {\n",
    "                    'tables': {\n",
    "                        'description': 'Array of pricing tables, each with a name and markets',\n",
    "                        'type': 'object',\n",
    "                        'properties': {\n",
    "                            'table_name': {\n",
    "                                'description': 'Name of the pricing table (e.g., Geographic Pricing, Demographic Pricing)',\n",
    "                                'type': 'array'\n",
    "                            },\n",
    "                            'market': {\n",
    "                                'description': 'Market or region names',\n",
    "                                'type': 'array'\n",
    "                            },\n",
    "                            'minimum_usd': {\n",
    "                                'description': 'Minimum values in USD for each market',\n",
    "                                'type': 'array'\n",
    "                            },\n",
    "                            'reach': {\n",
    "                                'description': 'Reach numbers for each market',\n",
    "                                'type': 'array'\n",
    "                            }\n",
    "                        }\n",
    "                    }\n",
    "                }\n",
    "            },\n",
    "            'subtotal': {\n",
    "                'description': 'Subtotal amount',\n",
    "                'type': 'array'\n",
    "            },\n",
    "            'tax': {\n",
    "                'description': 'Tax amount',\n",
    "                'type': 'array'\n",
    "            },\n",
    "            'total': {\n",
    "                'description': 'Total amount charged',\n",
    "                'type': 'array'\n",
    "            }\n",
    "        }\n",
    "    }\n",
    "}\n",
    "\"\"\"\n",
    "\n",
    "print(\"V2 schema defined for extracting pricing tables from receipts\")\n"
   ]
  },
  {
   "cell_type": "markdown",
   "metadata": {},
   "source": [
    "### Schema V2 for Pricing Tables\n",
    "\n",
    "**resp_schema_v2** is designed for receipts generated by `receipts.synthesis_v2/` which contain:\n",
    "\n",
    "**PRICING Section** with multiple named tables:\n",
    "- Geographic Pricing\n",
    "- Demographic Pricing  \n",
    "- Device Pricing\n",
    "- etc.\n",
    "\n",
    "Each table contains markets with:\n",
    "- **Market name**: \"North America\", \"Europe\", \"Asia Pacific\", etc.\n",
    "- **Minimum (USD)**: $500 - $50,000\n",
    "- **Reach**: 10,000 - 10,000,000 impressions\n",
    "\n",
    "**Table Extraction Format**:\n",
    "The schema uses AI_EXTRACT's table extraction where `tables` is an object with columns:\n",
    "- `table_name`: Names of each pricing table\n",
    "- `market`: Market/region names\n",
    "- `minimum_usd`: Minimum spend values\n",
    "- `reach`: Reach numbers\n",
    "\n",
    "This allows extracting **multiple tables** from a single receipt into structured format.\n",
    "\n",
    "**Usage**: Replace `{resp_schema}` with `{resp_schema_v2}` in the extraction query when processing V2 receipts.\n"
   ]
  },
  {
   "cell_type": "code",
   "execution_count": null,
   "metadata": {},
   "outputs": [],
   "source": [
    "# Alternative response format: Array-of-arrays (simpler than JSON schema)\n",
    "# Each inner array contains [label, question]\n",
    "# This format returns a flat structure instead of nested objects\n",
    "alt_resp_schema = [\n",
    "    # Vendor information\n",
    "    ['vendor_name', 'What is the name of the vendor or advertising service provider?'],\n",
    "    \n",
    "    # Transaction details\n",
    "    ['receipt_id', 'What is the receipt or invoice ID number?'],\n",
    "    ['transaction_date', 'What is the date of the transaction?'],\n",
    "    ['payment_method', 'What payment method was used?'],\n",
    "    \n",
    "    # Customer information\n",
    "    ['customer_name', 'What is the name of the customer contact person?'],\n",
    "    ['company_name', 'What is the name of the customer company or organization?'],\n",
    "    \n",
    "    # Campaign details\n",
    "    ['campaign_name', 'What is the name of the advertising campaign?'],\n",
    "    ['content_types', 'What types of content are included (Display, Video, etc.)?'],\n",
    "    ['ad_formats', 'What ad formats are used in the campaign?'],\n",
    "    ['period_startdate', 'What is the campaign period start date?'],\n",
    "    ['period_enddate', 'What is the campaign period end date?'],\n",
    "    \n",
    "    # Financial details\n",
    "    ['line_items', 'List all the individual line items on the receipt'],\n",
    "    ['subtotal', 'What is the subtotal amount before tax?'],\n",
    "    ['tax', 'What is the tax amount?'],\n",
    "    ['total', 'What is the total amount charged?'],\n",
    "    \n",
    "    # Performance metrics\n",
    "    ['cpm', 'What is the cost per thousand impressions (CPM)?'],\n",
    "    ['ctr', 'What is the click-through rate (CTR)?'],\n",
    "    ['bounce_rate', 'What is the bounce rate percentage?'],\n",
    "    ['targets', 'What are the target impressions and clicks?'],\n",
    "    ['pricing_model', 'What pricing model is used (CPM, CPC, CPA, etc.)?'],\n",
    "    \n",
    "    # Budget information\n",
    "    ['daily_budget', 'What is the daily budget amount?'],\n",
    "    ['total_budget', 'What is the total campaign budget?'],\n",
    "    \n",
    "    # Targeting parameters\n",
    "    ['geography', 'What geographic locations are being targeted?'],\n",
    "    ['demographics', 'What demographic criteria are being targeted?'],\n",
    "    ['age_range', 'What age range is being targeted?'],\n",
    "    ['devices', 'What devices are being targeted?']\n",
    "]\n",
    "\n",
    "print(f\"Alternative schema defines {len(alt_resp_schema)} extraction questions\")\n"
   ]
  },
  {
   "cell_type": "markdown",
   "metadata": {},
   "source": [
    "### Comparing Response Formats\n",
    "\n",
    "**JSON Schema (`resp_schema`):**\n",
    "- ✅ **Nested Structure**: Returns hierarchical data (`vendor.vendor_name`, `transaction.date`)\n",
    "- ✅ **Type Definitions**: Specifies that all fields are arrays\n",
    "- ✅ **Organized**: Groups related fields into objects\n",
    "- ⚠️ **Complex**: Requires understanding JSON schema syntax\n",
    "- 📊 **Access**: `extracted_data:response.vendor.vendor_name[0]`\n",
    "\n",
    "**Array-of-Arrays (`alt_resp_schema`):**\n",
    "- ✅ **Simple Format**: Easy to understand and modify\n",
    "- ✅ **Natural Language**: Each field has a clear question\n",
    "- ✅ **Flat Structure**: Returns all fields at top level\n",
    "- ⚠️ **No Nesting**: Loses organizational hierarchy\n",
    "- 📊 **Access**: `extracted_data:response.vendor_name` (no nesting)\n",
    "\n",
    "**Note**: The current notebook uses `resp_schema` (nested JSON). To use `alt_resp_schema`, replace `{resp_schema}` with `{alt_resp_schema}` in the build_extraction_query cell and update the flattening queries to remove nested paths.\n"
   ]
  },
  {
   "cell_type": "markdown",
   "id": "ce110000-1111-2222-3333-ffffff000017",
   "metadata": {
    "collapsed": false,
    "name": "cell18"
   },
   "source": [
    "## Step 6: Extract Structured Data with AI_EXTRACT (Direct from PDFs)\n",
    "\n",
    "Using Snowflake's AI_EXTRACT to process PDF files directly from the stage - no parsing step required!\n",
    "\n",
    "### Incremental Extraction:\n",
    "- **CREATE TABLE IF NOT EXISTS**: Preserves existing extracted data\n",
    "- **INSERT INTO**: Adds only new extractions\n",
    "- **WHERE NOT IN**: Only processes receipts not already in extracted_receipt_data_via_ai_extract\n",
    "- **Saves Costs**: Avoids re-running expensive AI_EXTRACT on same receipts\n",
    "\n",
    "### AI_EXTRACT Direct File Processing:\n",
    "- ✅ **Direct PDF Access**: Uses `TO_FILE` to read PDFs from stage\n",
    "- ✅ **Single Step**: No need for separate AI_PARSE_DOCUMENT step\n",
    "- ✅ **Structured Schema**: Define exact JSON schema for consistent results\n",
    "- ✅ **Nested Objects**: Support complex hierarchical structures (vendor, transaction, campaign, etc.)\n",
    "\n",
    "The AI reads PDF files directly from the stage and extracts data according to the defined schema, ensuring vendor details, transaction info, campaign details, financial totals, performance metrics, and targeting parameters are properly structured."
   ]
  },
  {
   "cell_type": "code",
   "execution_count": null,
   "id": "ce110000-1111-2222-3333-ffffff000015",
   "metadata": {
    "codeCollapsed": false,
    "language": "python",
    "name": "build_extraction_query"
   },
   "outputs": [],
   "source": [
    "# Create extracted_receipt_data_via_ai_extract table if it doesn't exist\n",
    "session.sql(\"\"\"\n",
    "CREATE TABLE IF NOT EXISTS \n",
    "extracted_receipt_data_via_ai_extract (\n",
    "    relative_path STRING,\n",
    "    extracted_data VARIANT\n",
    ")\n",
    "\"\"\").collect()\n",
    "\n",
    "# Extract directly from PDF files on the stage using AI_EXTRACT\n",
    "# AI_EXTRACT can work with files directly without needing AI_PARSE_DOCUMENT first\n",
    "query = f\"\"\"\n",
    "INSERT INTO extracted_receipt_data_via_ai_extract\n",
    "SELECT\n",
    "    relative_path,\n",
    "    AI_EXTRACT(\n",
    "        file => TO_FILE('@RECEIPTS_PROCESSING_DB.RAW.RECEIPTS', relative_path),\n",
    "        responseFormat => {resp_schema}\n",
    "    ) as extracted_data\n",
    "FROM DIRECTORY(@RECEIPTS_PROCESSING_DB.RAW.RECEIPTS)\n",
    "WHERE relative_path NOT IN (SELECT relative_path FROM extracted_receipt_data_via_ai_extract)\n",
    "\"\"\"\n",
    "\n",
    "print(\"Query prepared for AI_EXTRACT processing directly from PDF files\")\n"
   ]
  },
  {
   "cell_type": "code",
   "execution_count": null,
   "id": "6036f58a-240e-479f-bdf5-0f58be9c68cf",
   "metadata": {
    "language": "sql",
    "name": "deletion_for_testing"
   },
   "outputs": [],
   "source": [
    "-- Just uncomment in case you want all new receipts extraction:\n",
    "\n",
    "--truncate table extracted_receipt_data_via_ai_extract;\n",
    "--select * from extracted_receipt_data_via_ai_extract;"
   ]
  },
  {
   "cell_type": "code",
   "execution_count": null,
   "id": "ce110000-1111-2222-3333-ffffff000016",
   "metadata": {
    "language": "python",
    "name": "execute_extraction_query"
   },
   "outputs": [],
   "source": [
    "result = session.sql(query).collect()\n",
    "# Get the actual number of rows inserted from the result metadata\n",
    "rows_inserted = result[0]['number of rows inserted'] if result else 0\n",
    "print(f\"✓ Extracted data from {rows_inserted} new receipt(s) using AI_EXTRACT\")\n"
   ]
  },
  {
   "cell_type": "markdown",
   "id": "ce110000-1111-2222-3333-ffffff000019",
   "metadata": {
    "collapsed": false,
    "name": "cell20"
   },
   "source": [
    "## Step 7: Preview Extracted Receipt Data\n",
    "\n",
    "Each row contains a complete structured representation of a receipt with all extracted fields in VARIANT format, ready for flattening and analysis.\n"
   ]
  },
  {
   "cell_type": "code",
   "execution_count": null,
   "id": "ce110000-1111-2222-3333-ffffff000018",
   "metadata": {
    "language": "python",
    "name": "view_extract_results"
   },
   "outputs": [],
   "source": [
    "# View the extracted data\n",
    "result_df = session.table('extracted_receipt_data_via_ai_extract').to_pandas()\n",
    "result_df.head(100)\n"
   ]
  },
  {
   "cell_type": "markdown",
   "id": "ce110000-1111-2222-3333-ffffff000021",
   "metadata": {
    "collapsed": false,
    "name": "cell22"
   },
   "source": [
    "## Step 8: Flatten and Query Extracted Data\n",
    "\n",
    "Converting nested VARIANT data into a flat table showing key receipt fields including vendor, transaction date, campaign details, total amount, and performance metrics.\n"
   ]
  },
  {
   "cell_type": "code",
   "execution_count": null,
   "id": "ce110000-1111-2222-3333-ffffff000020",
   "metadata": {
    "language": "python",
    "name": "preview_extrated_receipts"
   },
   "outputs": [],
   "source": [
    "# Parse and flatten the extracted data for analysis\n",
    "# AI_EXTRACT wraps results in \"response\" object, so path is extracted_data:response.field\n",
    "flattened_df = session.sql(\"\"\"\n",
    "SELECT\n",
    "    relative_path,\n",
    "    extracted_data:response.vendor.vendor_name[0]::STRING AS vendor_name,\n",
    "    extracted_data:response.transaction.receipt_id[0]::STRING AS receipt_id,\n",
    "    TRY_TO_DATE(extracted_data:response.transaction.date[0]::STRING) AS transaction_date,\n",
    "    extracted_data:response.transaction.payment_method[0]::STRING AS payment_method,\n",
    "    extracted_data:response.customer.company_name[0]::STRING AS company_name,\n",
    "    extracted_data:response.campaign.name[0]::STRING AS campaign_name,\n",
    "    TRY_TO_DATE(extracted_data:response.campaign.period_startdate[0]::STRING) AS period_startdate,\n",
    "    TRY_TO_DATE(extracted_data:response.campaign.period_enddate[0]::STRING) AS period_enddate,\n",
    "    extracted_data:response.campaign.content_types[0]::STRING AS content_types,\n",
    "    TRY_TO_DECIMAL(REPLACE(REPLACE(extracted_data:response.financials.total[0]::STRING, '$', ''), ',', ''), 10, 2) AS total_amount,\n",
    "    TRY_TO_DECIMAL(REPLACE(extracted_data:response.metrics.cpm[0]::STRING, '$', ''), 10, 2) AS cpm,\n",
    "    TRY_TO_DECIMAL(REPLACE(extracted_data:response.metrics.ctr[0]::STRING, '%', ''), 10, 2) AS ctr,\n",
    "    TRY_TO_DECIMAL(REPLACE(extracted_data:response.metrics.bounce_rate[0]::STRING, '%', ''), 10, 2) AS bounce_rate,\n",
    "    extracted_data:response.metrics.pricing_model[0]::STRING AS pricing_model,\n",
    "    TRY_TO_DECIMAL(REPLACE(REPLACE(extracted_data:response.budget.daily_budget[0]::STRING, '$', ''), ',', ''), 10, 2) AS daily_budget,\n",
    "    TRY_TO_DECIMAL(REPLACE(REPLACE(extracted_data:response.budget.total_budget[0]::STRING, '$', ''), ',', ''), 10, 2) AS total_budget\n",
    "FROM extracted_receipt_data_via_ai_extract\n",
    "\"\"\").to_pandas()\n",
    "\n",
    "flattened_df.head(10)\n"
   ]
  },
  {
   "cell_type": "markdown",
   "id": "ce110000-1111-2222-3333-ffffff000024",
   "metadata": {
    "collapsed": false,
    "name": "cell25"
   },
   "source": [
    "## Step 9: Create Analytics View\n",
    "\n",
    "Creating a view with flattened receipt data for analytics with proper type conversion, descriptive column names, and processing timestamp. Ready for dashboards and reporting!\n"
   ]
  },
  {
   "cell_type": "code",
   "execution_count": null,
   "id": "ce110000-1111-2222-3333-ffffff000022",
   "metadata": {
    "language": "python",
    "name": "create_analytics_view"
   },
   "outputs": [],
   "source": [
    "# Create a view with flattened receipt data\n",
    "# AI_EXTRACT wraps results in \"response\" object, so path is extracted_data:response.field\n",
    "# Strip non-numeric characters ($, %, commas) before converting to numbers\n",
    "session.sql(\"\"\"\n",
    "CREATE OR REPLACE VIEW receipt_analytics_ai_extract_vw AS\n",
    "SELECT\n",
    "    relative_path AS receipt_filename,\n",
    "    extracted_data:response.vendor.vendor_name[0]::STRING AS vendor_name,\n",
    "    extracted_data:response.transaction.receipt_id[0]::STRING AS receipt_id,\n",
    "    TRY_TO_DATE(extracted_data:response.transaction.date[0]::STRING) AS transaction_date,\n",
    "    extracted_data:response.transaction.payment_method[0]::STRING AS payment_method,\n",
    "    extracted_data:response.customer.company_name[0]::STRING AS company_name,\n",
    "    extracted_data:response.customer.customer_name[0]::STRING AS customer_name,\n",
    "    extracted_data:response.campaign.name[0]::STRING AS campaign_name,\n",
    "    TRY_TO_DATE(extracted_data:response.campaign.period_startdate[0]::STRING) AS period_startdate,\n",
    "    TRY_TO_DATE(extracted_data:response.campaign.period_enddate[0]::STRING) AS period_enddate,\n",
    "    extracted_data:response.campaign.content_types[0]::STRING AS content_types,\n",
    "    -- Strip $ and , from financial values and preserve decimals\n",
    "    TRY_TO_DECIMAL(REPLACE(REPLACE(extracted_data:response.financials.subtotal[0]::STRING, '$', ''), ',', ''), 10, 2) AS subtotal,\n",
    "    TRY_TO_DECIMAL(REPLACE(REPLACE(extracted_data:response.financials.tax[0]::STRING, '$', ''), ',', ''), 10, 2) AS tax,\n",
    "    TRY_TO_DECIMAL(REPLACE(REPLACE(extracted_data:response.financials.total[0]::STRING, '$', ''), ',', ''), 10, 2) AS total_amount,\n",
    "    -- Strip $ from CPM and preserve decimals\n",
    "    TRY_TO_DECIMAL(REPLACE(extracted_data:response.metrics.cpm[0]::STRING, '$', ''), 10, 2) AS cpm,\n",
    "    -- Strip % from CTR and Bounce Rate and preserve decimals\n",
    "    TRY_TO_DECIMAL(REPLACE(extracted_data:response.metrics.ctr[0]::STRING, '%', ''), 10, 2) AS ctr_percent,\n",
    "    TRY_TO_DECIMAL(REPLACE(extracted_data:response.metrics.bounce_rate[0]::STRING, '%', ''), 10, 2) AS bounce_rate_percent,\n",
    "    extracted_data:response.metrics.pricing_model[0]::STRING AS pricing_model,\n",
    "    -- Strip $ and , from budget values and preserve decimals\n",
    "    TRY_TO_DECIMAL(REPLACE(REPLACE(extracted_data:response.budget.daily_budget[0]::STRING, '$', ''), ',', ''), 10, 2) AS daily_budget,\n",
    "    TRY_TO_DECIMAL(REPLACE(REPLACE(extracted_data:response.budget.total_budget[0]::STRING, '$', ''), ',', ''), 10, 2) AS campaign_budget,\n",
    "    extracted_data:response.targeting.age_range[0]::STRING AS age_range,\n",
    "    CURRENT_TIMESTAMP() AS processed_at\n",
    "FROM extracted_receipt_data_via_ai_extract\n",
    "\"\"\").collect()\n",
    "\n",
    "print(\"✓ receipt_analytics_ai_extract_vw created successfully!\")\n"
   ]
  },
  {
   "cell_type": "code",
   "execution_count": null,
   "id": "ce110000-1111-2222-3333-ffffff000023",
   "metadata": {
    "language": "sql",
    "name": "view_analytics_view",
    "vscode": {
     "languageId": "sql"
    }
   },
   "outputs": [],
   "source": [
    "SELECT * FROM receipt_analytics_ai_extract_vw LIMIT 10;\n"
   ]
  },
  {
   "cell_type": "markdown",
   "id": "ce110000-1111-2222-3333-ffffff000027",
   "metadata": {
    "collapsed": false,
    "name": "cell28"
   },
   "source": [
    "## Step 10: Analyze Spending by Vendor\n",
    "\n",
    "Analyzing receipt count, total spending, average amounts, and performance metrics (CPM, CTR) by vendor to identify top advertising partners and their performance.\n"
   ]
  },
  {
   "cell_type": "code",
   "execution_count": null,
   "id": "ce110000-1111-2222-3333-ffffff000026",
   "metadata": {
    "language": "python",
    "name": "spending_by_vendor"
   },
   "outputs": [],
   "source": [
    "# Example analytics: Spending by vendor\n",
    "session.sql(\"\"\"\n",
    "SELECT \n",
    "    vendor_name,\n",
    "    COUNT(*) AS receipt_count,\n",
    "    SUM(total_amount) AS total_spending,\n",
    "    AVG(total_amount) AS avg_receipt_amount,\n",
    "    AVG(cpm) AS avg_cpm,\n",
    "    AVG(ctr_percent) AS avg_ctr\n",
    "FROM receipt_analytics_ai_extract_vw\n",
    "GROUP BY vendor_name\n",
    "ORDER BY total_spending DESC\n",
    "\"\"\").to_pandas()\n"
   ]
  },
  {
   "cell_type": "markdown",
   "id": "ce110000-1111-2222-3333-ffffff000029",
   "metadata": {
    "collapsed": false,
    "name": "cell30"
   },
   "source": [
    "## Step 11: Analyze by Campaign Content Type\n",
    "\n",
    "Comparing performance between Display, Video, and mixed campaigns to optimize content strategy and budget allocation.\n"
   ]
  },
  {
   "cell_type": "code",
   "execution_count": null,
   "id": "ce110000-1111-2222-3333-ffffff000028",
   "metadata": {
    "language": "python",
    "name": "spending_by_content_type"
   },
   "outputs": [],
   "source": [
    "# Campaign type analysis\n",
    "session.sql(\"\"\"\n",
    "SELECT \n",
    "    content_types,\n",
    "    COUNT(*) AS campaign_count,\n",
    "    AVG(total_amount) AS avg_spending,\n",
    "    AVG(cpm) AS avg_cpm,\n",
    "    AVG(ctr_percent) AS avg_ctr,\n",
    "    AVG(bounce_rate_percent) AS avg_bounce_rate\n",
    "FROM receipt_analytics_ai_extract_vw\n",
    "WHERE content_types IS NOT NULL\n",
    "GROUP BY content_types\n",
    "ORDER BY campaign_count DESC\n",
    "\"\"\").to_pandas()\n"
   ]
  },
  {
   "cell_type": "markdown",
   "id": "ce110000-1111-2222-3333-ffffff000031",
   "metadata": {
    "collapsed": false,
    "name": "cell32"
   },
   "source": [
    "## Step 12: Analyze by Pricing Model\n",
    "\n",
    "Understanding performance across different pricing models (CPM, CPC, CPA, CPV, Flat Rate) to determine which delivers the best ROI.\n"
   ]
  },
  {
   "cell_type": "code",
   "execution_count": null,
   "id": "ce110000-1111-2222-3333-ffffff000030",
   "metadata": {
    "language": "python",
    "name": "spending_by_pricing_model"
   },
   "outputs": [],
   "source": [
    "# Performance metrics by pricing model\n",
    "session.sql(\"\"\"\n",
    "SELECT \n",
    "    pricing_model,\n",
    "    COUNT(*) AS receipt_count,\n",
    "    AVG(cpm) AS avg_cpm,\n",
    "    AVG(ctr_percent) AS avg_ctr,\n",
    "    AVG(bounce_rate_percent) AS avg_bounce_rate,\n",
    "    SUM(total_amount) AS total_spending\n",
    "FROM receipt_analytics_ai_extract_vw\n",
    "WHERE pricing_model IS NOT NULL\n",
    "GROUP BY pricing_model\n",
    "ORDER BY receipt_count DESC\n",
    "\"\"\").to_pandas()\n"
   ]
  },
  {
   "cell_type": "markdown",
   "id": "ce110000-1111-2222-3333-ffffff000032",
   "metadata": {
    "collapsed": false,
    "name": "cell33"
   },
   "source": [
    "## Summary\n",
    "\n",
    "### What We've Accomplished:\n",
    "\n",
    "1. ✅ **Structured Extraction**: Used AI_EXTRACT with responseFormat schema to extract structured data\n",
    "2. ✅ **Analytics View**: Created `receipt_analytics_ai_extract_vw` with flattened, queryable data\n",
    "3. ✅ **Generated Insights**: Analyzed spending, performance, and campaign metrics\n",
    "\n",
    "### Key Metrics Captured:\n",
    "- **Financial**: Subtotal, tax, total amounts\n",
    "- **Performance**: CPM, CTR, Bounce Rate\n",
    "- **Campaign**: Display formats, video placements, targeting\n",
    "- **Budget**: Daily and total campaign budgets\n",
    "\n",
    "### AI_EXTRACT with responseFormat Advantages:\n",
    "- ✅ **Structured Schema**: Define exact output structure with nested objects\n",
    "- ✅ **Type Safety**: Specify field types for consistent data\n",
    "- ✅ **Guided Extraction**: Use descriptions to help AI understand fields\n",
    "- ✅ **Cleaner Data**: Hierarchical structure (vendor, transaction, campaign, etc.)\n",
    "\n",
    "### Tables & Views Created:\n",
    "1. `extracted_receipt_data_via_ai_extract` - Structured data extracted with AI_EXTRACT + responseFormat\n",
    "2. `receipt_analytics_ai_extract_vw` - Flattened, analytics-ready view\n",
    "\n",
    "---\n",
    "\n",
    "**Your receipt data is now structured with AI_EXTRACT + responseFormat, queryable, and ready for analysis!** 📊"
   ]
  }
 ],
 "metadata": {
  "language_info": {
   "name": "python"
  },
  "lastEditStatus": {
   "authorEmail": "bo.landsman@snowflake.com",
   "authorId": "47643210579",
   "authorName": "ADMIN",
   "lastEditTime": 1761619827780,
   "notebookId": "uco4rkxs4vbgpsgge3rp",
   "sessionId": "ff766eaa-3a39-4eca-a512-dde036f30d7a"
  }
 },
 "nbformat": 4,
 "nbformat_minor": 2
}
