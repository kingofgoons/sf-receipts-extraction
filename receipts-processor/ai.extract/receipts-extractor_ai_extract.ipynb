{
 "metadata": {
  "language_info": {
   "name": "python"
  },
  "lastEditStatus": {
   "notebookId": "r64li6aub5ttlslkcb7c",
   "authorId": "47643210579",
   "authorName": "ADMIN",
   "authorEmail": "bo.landsman@snowflake.com",
   "sessionId": "7023e8ba-cc13-4092-a474-32cd7b84c287",
   "lastEditTime": 1761618006685
  }
 },
 "nbformat_minor": 2,
 "nbformat": 4,
 "cells": [
  {
   "cell_type": "markdown",
   "metadata": {
    "name": "cell1",
    "collapsed": false
   },
   "source": "# Receipt Data Extraction: Using AI_EXTRACT for Automatic Structure Detection\n\n## Overview\nThis notebook demonstrates how to use Snowflake's AI_EXTRACT function to automatically extract structured information from ad-campaign receipt PDFs. Unlike AI_COMPLETE, AI_EXTRACT automatically detects and extracts structured data without requiring detailed schemas.\n\n## What We'll Accomplish\n- Extract structured receipt data automatically using `AI_EXTRACT`\n- Transform unstructured receipt content into structured, analyzable data with minimal configuration\n\n## Prerequisites\n- Access to Snowflake with Cortex AI features enabled\n- Receipts uploaded to `@RECEIPTS_PROCESSING_DB.RAW.RECEIPTS` stage\n- RECEIPTS_PROCESSING_DB database and RAW schema configured\n- Appropriate permissions for the ETL service role\n",
   "id": "ce110000-1111-2222-3333-ffffff000000"
  },
  {
   "cell_type": "code",
   "execution_count": null,
   "metadata": {
    "name": "session_init",
    "language": "python"
   },
   "outputs": [],
   "source": [
    "# Import python packages\n",
    "import streamlit as st\n",
    "import pandas as pd\n",
    "\n",
    "# Use Snowpark for our analyses\n",
    "from snowflake.snowpark.context import get_active_session\n",
    "session = get_active_session()\n"
   ],
   "id": "ce110000-1111-2222-3333-ffffff000001"
  },
  {
   "cell_type": "markdown",
   "metadata": {
    "name": "cell3",
    "collapsed": false
   },
   "source": "## Step 1: Environment Setup and Session Initialization\n\nSetting up our environment by importing necessary packages and establishing a Snowflake session.\n\n### Key Components:\n- **Streamlit**: For building interactive applications\n- **Pandas**: For data manipulation and analysis\n- **Snowpark Session**: Connection to Snowflake and access to Cortex AI capabilities\n\nThe `get_active_session()` retrieves our Snowflake session for executing SQL and using AI features.\n\n## Step 2: Set Database and Schema Context\nSetting the working context for our session:\n\n- **Database**: `RECEIPTS_PROCESSING_DB` - Our receipt processing database\n- **Schema**: `RAW` - The schema containing our receipts stage\n\nThis ensures all operations execute within the correct context without needing to fully qualify object names.\n",
   "id": "ce110000-1111-2222-3333-ffffff000002"
  },
  {
   "cell_type": "code",
   "execution_count": null,
   "metadata": {
    "name": "init_context",
    "language": "python"
   },
   "outputs": [],
   "source": [
    "session.sql(\"USE ROLE SYSADMIN\").collect()\n",
    "\n",
    "# Set warehouse for AI processing\n",
    "session.sql(\"USE WAREHOUSE RECEIPTS_PARSE_COMPLETE_WH\").collect()\n",
    "\n",
    "session.sql(\"ALTER WAREHOUSE RECEIPTS_PARSE_COMPLETE_WH SET WAREHOUSE_SIZE='XSMALL'\").collect()\n",
    "\n",
    "session.use_database('RECEIPTS_PROCESSING_DB')\n",
    "session.use_schema('RAW')\n"
   ],
   "id": "ce110000-1111-2222-3333-ffffff000003"
  },
  {
   "cell_type": "markdown",
   "metadata": {
    "name": "cell7",
    "collapsed": false
   },
   "source": [
    "## Step 3: Import Processing Libraries\n",
    "\n",
    "Importing libraries for document AI processing:\n",
    "\n",
    "### Key Imports:\n",
    "- **JSON**: For handling structured data extracted by AI_EXTRACT\n",
    "\n",
    "Note: AI_EXTRACT requires minimal configuration compared to AI_COMPLETE, so we don't need Pydantic schemas or complex prompt management.\n"
   ],
   "id": "ce110000-1111-2222-3333-ffffff000006"
  },
  {
   "cell_type": "code",
   "execution_count": null,
   "metadata": {
    "name": "imports",
    "language": "python"
   },
   "outputs": [],
   "source": "#import json\n",
   "id": "ce110000-1111-2222-3333-ffffff000005"
  },
  {
   "cell_type": "markdown",
   "metadata": {
    "name": "cell9"
   },
   "source": [
    "## Step 4: Explore Available Receipts\n",
    "\n",
    "Before processing, let's see what receipt files are available in our stage.\n",
    "\n",
    "### What This Shows:\n",
    "- File names and paths of receipts ready for processing\n",
    "- File sizes and metadata\n",
    "- Upload timestamps\n",
    "\n",
    "The `DIRECTORY()` function provides a view of all files in the `@RECEIPTS_PROCESSING_DB.RAW.RECEIPTS` stage, essential for understanding our data source.\n"
   ],
   "id": "ce110000-1111-2222-3333-ffffff000008"
  },
  {
   "cell_type": "code",
   "execution_count": null,
   "metadata": {
    "vscode": {
     "languageId": "snowflake-sql"
    },
    "name": "view_receipts",
    "language": "sql"
   },
   "outputs": [],
   "source": [
    "--REMOVE @RECEIPTS_PROCESSING_DB.RAW.RECEIPTS; -- REMOVES ALL FILES FROM THE STAGE\n",
    "ALTER STAGE RECEIPTS_PROCESSING_DB.RAW.RECEIPTS REFRESH;\n",
    "SELECT * FROM DIRECTORY(@RECEIPTS_PROCESSING_DB.RAW.RECEIPTS);\n"
   ],
   "id": "ce110000-1111-2222-3333-ffffff000007"
  },
  {
   "cell_type": "markdown",
   "metadata": {
    "name": "cell15",
    "collapsed": false
   },
   "source": "## Step 5: Define Response Schema\n\nAI_EXTRACT supports structured JSON schemas via the `responseFormat` parameter. This allows us to:\n- Define nested object structures (vendor, transaction, customer, campaign, etc.)\n- Specify field types and requirements  \n- Add descriptions to guide extraction\n- Ensure consistent output format\n\nThe `resp_schema` defines the complete structure for our receipt data extraction.",
   "id": "ce110000-1111-2222-3333-ffffff000014"
  },
  {
   "cell_type": "code",
   "id": "a730bdd2-c1e4-43db-9be6-eb6416d0012a",
   "metadata": {
    "language": "python",
    "name": "define_fields"
   },
   "outputs": [],
   "source": "# Complete JSON schema for AI_EXTRACT - all fields as type: 'array'\nresp_schema = {\n    'schema': {\n        'type': 'object',\n        'properties': {\n            'vendor': {\n                'description': 'Vendor or advertising service provider information',\n                'type': 'object',\n                'properties': {\n                    'vendor_name': {\n                        'description': 'Name of the vendor',\n                        'type': 'array'\n                    }\n                }\n            },\n            'transaction': {\n                'description': 'Transaction and receipt details',\n                'type': 'object',\n                'properties': {\n                    'receipt_id': {\n                        'description': 'Receipt or invoice ID number',\n                        'type': 'array'\n                    },\n                    'date': {\n                        'description': 'Date of the transaction',\n                        'type': 'array'\n                    },\n                    'payment_method': {\n                        'description': 'Payment method used',\n                        'type': 'array'\n                    }\n                }\n            },\n            'customer': {\n                'description': 'Customer or client information',\n                'type': 'object',\n                'properties': {\n                    'customer_name': {\n                        'description': 'Name of the customer contact',\n                        'type': 'array'\n                    },\n                    'company_name': {\n                        'description': 'Name of the customer company',\n                        'type': 'array'\n                    }\n                }\n            },\n            'campaign': {\n                'description': 'Advertising campaign details',\n                'type': 'object',\n                'properties': {\n                    'name': {\n                        'description': 'Name of the advertising campaign',\n                        'type': 'array'\n                    },\n                    'content_types': {\n                        'description': 'Types of content (Display, Video, etc.)',\n                        'type': 'array'\n                    },\n                    'ad_formats': {\n                        'description': 'Ad formats used in the campaign',\n                        'type': 'array'\n                    },\n                    'period_startdate': {\n                        'description': 'Campaign period start date',\n                        'type': 'array'\n                    },\n                    'period_enddate': {\n                        'description': 'Campaign period end date',\n                        'type': 'array'\n                    }\n                }\n            },\n            'financials': {\n                'description': 'Financial details from the receipt',\n                'type': 'object',\n                'properties': {\n                    'line_items': {\n                        'description': 'Individual line items on the receipt',\n                        'type': 'array'\n                    },\n                    'subtotal': {\n                        'description': 'Subtotal amount before tax',\n                        'type': 'array'\n                    },\n                    'tax': {\n                        'description': 'Tax amount',\n                        'type': 'array'\n                    },\n                    'total': {\n                        'description': 'Total amount charged',\n                        'type': 'array'\n                    }\n                }\n            },\n            'metrics': {\n                'description': 'Campaign performance metrics',\n                'type': 'object',\n                'properties': {\n                    'cpm': {\n                        'description': 'Cost per thousand impressions (CPM)',\n                        'type': 'array'\n                    },\n                    'ctr': {\n                        'description': 'Click-through rate (CTR)',\n                        'type': 'array'\n                    },\n                    'bounce_rate': {\n                        'description': 'Bounce rate percentage',\n                        'type': 'array'\n                    },\n                    'targets': {\n                        'description': 'Target impressions and clicks',\n                        'type': 'array'\n                    },\n                    'pricing_model': {\n                        'description': 'Pricing model used (CPM, CPC, etc.)',\n                        'type': 'array'\n                    }\n                }\n            },\n            'budget': {\n                'description': 'Budget information',\n                'type': 'object',\n                'properties': {\n                    'daily_budget': {\n                        'description': 'Daily budget amount',\n                        'type': 'array'\n                    },\n                    'total_budget': {\n                        'description': 'Total campaign budget',\n                        'type': 'array'\n                    }\n                }\n            },\n            'targeting': {\n                'description': 'Campaign targeting parameters',\n                'type': 'object',\n                'properties': {\n                    'geography': {\n                        'description': 'Geographic targeting locations',\n                        'type': 'array'\n                    },\n                    'demographics': {\n                        'description': 'Demographic targeting criteria',\n                        'type': 'array'\n                    },\n                    'age_range': {\n                        'description': 'Age range targeting',\n                        'type': 'array'\n                    },\n                    'devices': {\n                        'description': 'Device targeting',\n                        'type': 'array'\n                    }\n                }\n            }\n        }\n    }\n}\n",
   "execution_count": null
  },
  {
   "cell_type": "markdown",
   "metadata": {
    "name": "cell18",
    "collapsed": false
   },
   "source": "## Step 6: Extract Structured Data with AI_EXTRACT (Incremental)\n\nUsing Snowflake's AI_EXTRACT with a structured schema to extract receipt data - only processing newly parsed receipts.\n\n### Incremental Extraction:\n- **CREATE TABLE IF NOT EXISTS**: Preserves existing extracted data\n- **INSERT INTO**: Adds only new extractions\n- **WHERE NOT IN**: Only processes receipts not already in extracted_receipt_data_via_ai_extract\n- **Saves Costs**: Avoids re-running expensive AI_EXTRACT on same receipts\n\n### AI_EXTRACT with responseFormat:\n- ✅ **Structured Output**: Define exact JSON schema for consistent results\n- ✅ **Type Safety**: Specify field types (string, number, array, object)\n- ✅ **Descriptions**: Guide AI with field descriptions\n- ✅ **Nested Objects**: Support complex hierarchical structures\n\nThe AI reads each receipt and extracts data according to the defined schema, ensuring vendor details, transaction info, campaign details, financial totals, performance metrics, and targeting parameters are properly structured.",
   "id": "ce110000-1111-2222-3333-ffffff000017"
  },
  {
   "cell_type": "code",
   "execution_count": null,
   "metadata": {
    "name": "build_extraction_query",
    "language": "python",
    "codeCollapsed": false
   },
   "outputs": [],
   "source": "# Create extracted_receipt_data_via_ai_extract table if it doesn't exist\nsession.sql(\"\"\"\nCREATE TABLE IF NOT EXISTS extracted_receipt_data_via_ai_extract (\n    relative_path STRING,\n    content STRING,\n    extracted_data VARIANT\n)\n\"\"\").collect()\n\n# Only extract data from newly parsed receipts using the structured schema\nquery = f\"\"\"\nINSERT INTO extracted_receipt_data_via_ai_extract\nSELECT\n    relative_path,\n    content,\n    AI_EXTRACT(\n        text => content,\n        responseFormat => {resp_schema}\n    ) as extracted_data\nFROM parsed_receipts\nWHERE relative_path NOT IN (SELECT relative_path FROM extracted_receipt_data_via_ai_extract)\n\"\"\"\n\nprint(\"Query prepared for AI_EXTRACT processing with structured schema\")\n",
   "id": "ce110000-1111-2222-3333-ffffff000015"
  },
  {
   "cell_type": "code",
   "id": "6036f58a-240e-479f-bdf5-0f58be9c68cf",
   "metadata": {
    "language": "sql",
    "name": "temp_deletions"
   },
   "outputs": [],
   "source": "-- Just uncomment in case you want all new receipts extraction:\n\n--truncate table extracted_receipt_data_via_ai_extract;\n--select * from extracted_receipt_data_via_ai_extract;",
   "execution_count": null
  },
  {
   "cell_type": "code",
   "execution_count": null,
   "metadata": {
    "name": "execute_extraction_query",
    "language": "python"
   },
   "outputs": [],
   "source": [
    "result = session.sql(query).collect()\n",
    "# Get the actual number of rows inserted from the result metadata\n",
    "rows_inserted = result[0]['number of rows inserted'] if result else 0\n",
    "print(f\"✓ Extracted data from {rows_inserted} new receipt(s) using AI_EXTRACT\")\n"
   ],
   "id": "ce110000-1111-2222-3333-ffffff000016"
  },
  {
   "cell_type": "markdown",
   "metadata": {
    "name": "cell20",
    "collapsed": false
   },
   "source": "## Step 7: Preview Extracted Receipt Data\n\nEach row contains a complete structured representation of a receipt with all extracted fields in VARIANT format, ready for flattening and analysis.\n",
   "id": "ce110000-1111-2222-3333-ffffff000019"
  },
  {
   "cell_type": "code",
   "execution_count": null,
   "metadata": {
    "name": "view_extract_results",
    "language": "python"
   },
   "outputs": [],
   "source": "# View the extracted data\nresult_df = session.table('extracted_receipt_data_via_ai_extract').to_pandas()\nresult_df.head(100)\n",
   "id": "ce110000-1111-2222-3333-ffffff000018"
  },
  {
   "cell_type": "markdown",
   "metadata": {
    "name": "cell22",
    "collapsed": false
   },
   "source": "## Step 8: Flatten and Query Extracted Data\n\nConverting nested VARIANT data into a flat table showing key receipt fields including vendor, transaction date, campaign details, total amount, and performance metrics.\n",
   "id": "ce110000-1111-2222-3333-ffffff000021"
  },
  {
   "cell_type": "code",
   "execution_count": null,
   "metadata": {
    "name": "preview_extrated_receipts",
    "language": "python"
   },
   "outputs": [],
   "source": "# Parse and flatten the extracted data for analysis\n# AI_EXTRACT wraps results in \"response\" object, so path is extracted_data:response.field\nflattened_df = session.sql(\"\"\"\nSELECT\n    relative_path,\n    extracted_data:response.vendor.vendor_name[0]::STRING AS vendor_name,\n    extracted_data:response.transaction.receipt_id[0]::STRING AS receipt_id,\n    TRY_TO_DATE(extracted_data:response.transaction.date[0]::STRING) AS transaction_date,\n    extracted_data:response.transaction.payment_method[0]::STRING AS payment_method,\n    extracted_data:response.customer.company_name[0]::STRING AS company_name,\n    extracted_data:response.campaign.name[0]::STRING AS campaign_name,\n    TRY_TO_DATE(extracted_data:response.campaign.period_startdate[0]::STRING) AS period_startdate,\n    TRY_TO_DATE(extracted_data:response.campaign.period_enddate[0]::STRING) AS period_enddate,\n    extracted_data:response.campaign.content_types[0]::STRING AS content_types,\n    TRY_TO_DECIMAL(REPLACE(REPLACE(extracted_data:response.financials.total[0]::STRING, '$', ''), ',', ''), 10, 2) AS total_amount,\n    TRY_TO_DECIMAL(REPLACE(extracted_data:response.metrics.cpm[0]::STRING, '$', ''), 10, 2) AS cpm,\n    TRY_TO_DECIMAL(REPLACE(extracted_data:response.metrics.ctr[0]::STRING, '%', ''), 10, 2) AS ctr,\n    TRY_TO_DECIMAL(REPLACE(extracted_data:response.metrics.bounce_rate[0]::STRING, '%', ''), 10, 2) AS bounce_rate,\n    extracted_data:response.metrics.pricing_model[0]::STRING AS pricing_model,\n    TRY_TO_DECIMAL(REPLACE(REPLACE(extracted_data:response.budget.daily_budget[0]::STRING, '$', ''), ',', ''), 10, 2) AS daily_budget,\n    TRY_TO_DECIMAL(REPLACE(REPLACE(extracted_data:response.budget.total_budget[0]::STRING, '$', ''), ',', ''), 10, 2) AS total_budget\nFROM extracted_receipt_data_via_ai_extract\n\"\"\").to_pandas()\n\nflattened_df.head(10)\n",
   "id": "ce110000-1111-2222-3333-ffffff000020"
  },
  {
   "cell_type": "markdown",
   "metadata": {
    "name": "cell25",
    "collapsed": false
   },
   "source": "## Step 9: Create Analytics View\n\nCreating a view with flattened receipt data for analytics with proper type conversion, descriptive column names, and processing timestamp. Ready for dashboards and reporting!\n",
   "id": "ce110000-1111-2222-3333-ffffff000024"
  },
  {
   "cell_type": "code",
   "execution_count": null,
   "metadata": {
    "name": "create_analytics_view",
    "language": "python"
   },
   "outputs": [],
   "source": "# Create a view with flattened receipt data\n# AI_EXTRACT wraps results in \"response\" object, so path is extracted_data:response.field\n# Strip non-numeric characters ($, %, commas) before converting to numbers\nsession.sql(\"\"\"\nCREATE OR REPLACE VIEW receipt_analytics_ai_extract_vw AS\nSELECT\n    relative_path AS receipt_filename,\n    extracted_data:response.vendor.vendor_name[0]::STRING AS vendor_name,\n    extracted_data:response.transaction.receipt_id[0]::STRING AS receipt_id,\n    TRY_TO_DATE(extracted_data:response.transaction.date[0]::STRING) AS transaction_date,\n    extracted_data:response.transaction.payment_method[0]::STRING AS payment_method,\n    extracted_data:response.customer.company_name[0]::STRING AS company_name,\n    extracted_data:response.customer.customer_name[0]::STRING AS customer_name,\n    extracted_data:response.campaign.name[0]::STRING AS campaign_name,\n    TRY_TO_DATE(extracted_data:response.campaign.period_startdate[0]::STRING) AS period_startdate,\n    TRY_TO_DATE(extracted_data:response.campaign.period_enddate[0]::STRING) AS period_enddate,\n    extracted_data:response.campaign.content_types[0]::STRING AS content_types,\n    -- Strip $ and , from financial values and preserve decimals\n    TRY_TO_DECIMAL(REPLACE(REPLACE(extracted_data:response.financials.subtotal[0]::STRING, '$', ''), ',', ''), 10, 2) AS subtotal,\n    TRY_TO_DECIMAL(REPLACE(REPLACE(extracted_data:response.financials.tax[0]::STRING, '$', ''), ',', ''), 10, 2) AS tax,\n    TRY_TO_DECIMAL(REPLACE(REPLACE(extracted_data:response.financials.total[0]::STRING, '$', ''), ',', ''), 10, 2) AS total_amount,\n    -- Strip $ from CPM and preserve decimals\n    TRY_TO_DECIMAL(REPLACE(extracted_data:response.metrics.cpm[0]::STRING, '$', ''), 10, 2) AS cpm,\n    -- Strip % from CTR and Bounce Rate and preserve decimals\n    TRY_TO_DECIMAL(REPLACE(extracted_data:response.metrics.ctr[0]::STRING, '%', ''), 10, 2) AS ctr_percent,\n    TRY_TO_DECIMAL(REPLACE(extracted_data:response.metrics.bounce_rate[0]::STRING, '%', ''), 10, 2) AS bounce_rate_percent,\n    extracted_data:response.metrics.pricing_model[0]::STRING AS pricing_model,\n    -- Strip $ and , from budget values and preserve decimals\n    TRY_TO_DECIMAL(REPLACE(REPLACE(extracted_data:response.budget.daily_budget[0]::STRING, '$', ''), ',', ''), 10, 2) AS daily_budget,\n    TRY_TO_DECIMAL(REPLACE(REPLACE(extracted_data:response.budget.total_budget[0]::STRING, '$', ''), ',', ''), 10, 2) AS campaign_budget,\n    extracted_data:response.targeting.age_range[0]::STRING AS age_range,\n    CURRENT_TIMESTAMP() AS processed_at\nFROM extracted_receipt_data_via_ai_extract\n\"\"\").collect()\n\nprint(\"✓ receipt_analytics_ai_extract_vw created successfully!\")\n",
   "id": "ce110000-1111-2222-3333-ffffff000022"
  },
  {
   "cell_type": "code",
   "execution_count": null,
   "metadata": {
    "vscode": {
     "languageId": "sql"
    },
    "name": "cell24",
    "language": "sql"
   },
   "outputs": [],
   "source": [
    "SELECT * FROM receipt_analytics_ai_extract_vw LIMIT 10;\n"
   ],
   "id": "ce110000-1111-2222-3333-ffffff000023"
  },
  {
   "cell_type": "markdown",
   "metadata": {
    "name": "cell26"
   },
   "source": [],
   "id": "ce110000-1111-2222-3333-ffffff000025"
  },
  {
   "cell_type": "markdown",
   "metadata": {
    "name": "cell28",
    "collapsed": false
   },
   "source": "## Step 10: Analyze Spending by Vendor\n\nAnalyzing receipt count, total spending, average amounts, and performance metrics (CPM, CTR) by vendor to identify top advertising partners and their performance.\n",
   "id": "ce110000-1111-2222-3333-ffffff000027"
  },
  {
   "cell_type": "code",
   "execution_count": null,
   "metadata": {
    "name": "spending_by_vendor",
    "language": "python"
   },
   "outputs": [],
   "source": [
    "# Example analytics: Spending by vendor\n",
    "session.sql(\"\"\"\n",
    "SELECT \n",
    "    vendor_name,\n",
    "    COUNT(*) AS receipt_count,\n",
    "    SUM(total_amount) AS total_spending,\n",
    "    AVG(total_amount) AS avg_receipt_amount,\n",
    "    AVG(cpm) AS avg_cpm,\n",
    "    AVG(ctr_percent) AS avg_ctr\n",
    "FROM receipt_analytics_ai_extract_vw\n",
    "GROUP BY vendor_name\n",
    "ORDER BY total_spending DESC\n",
    "\"\"\").to_pandas()\n"
   ],
   "id": "ce110000-1111-2222-3333-ffffff000026"
  },
  {
   "cell_type": "markdown",
   "metadata": {
    "name": "cell30",
    "collapsed": false
   },
   "source": "## Step 11: Analyze by Campaign Content Type\n\nComparing performance between Display, Video, and mixed campaigns to optimize content strategy and budget allocation.\n",
   "id": "ce110000-1111-2222-3333-ffffff000029"
  },
  {
   "cell_type": "code",
   "execution_count": null,
   "metadata": {
    "name": "spending_by_content_type",
    "language": "python"
   },
   "outputs": [],
   "source": [
    "# Campaign type analysis\n",
    "session.sql(\"\"\"\n",
    "SELECT \n",
    "    content_types,\n",
    "    COUNT(*) AS campaign_count,\n",
    "    AVG(total_amount) AS avg_spending,\n",
    "    AVG(cpm) AS avg_cpm,\n",
    "    AVG(ctr_percent) AS avg_ctr,\n",
    "    AVG(bounce_rate_percent) AS avg_bounce_rate\n",
    "FROM receipt_analytics_ai_extract_vw\n",
    "WHERE content_types IS NOT NULL\n",
    "GROUP BY content_types\n",
    "ORDER BY campaign_count DESC\n",
    "\"\"\").to_pandas()\n"
   ],
   "id": "ce110000-1111-2222-3333-ffffff000028"
  },
  {
   "cell_type": "markdown",
   "metadata": {
    "name": "cell32",
    "collapsed": false
   },
   "source": "## Step 12: Analyze by Pricing Model\n\nUnderstanding performance across different pricing models (CPM, CPC, CPA, CPV, Flat Rate) to determine which delivers the best ROI.\n",
   "id": "ce110000-1111-2222-3333-ffffff000031"
  },
  {
   "cell_type": "code",
   "execution_count": null,
   "metadata": {
    "name": "spending_by_pricing_model",
    "language": "python"
   },
   "outputs": [],
   "source": [
    "# Performance metrics by pricing model\n",
    "session.sql(\"\"\"\n",
    "SELECT \n",
    "    pricing_model,\n",
    "    COUNT(*) AS receipt_count,\n",
    "    AVG(cpm) AS avg_cpm,\n",
    "    AVG(ctr_percent) AS avg_ctr,\n",
    "    AVG(bounce_rate_percent) AS avg_bounce_rate,\n",
    "    SUM(total_amount) AS total_spending\n",
    "FROM receipt_analytics_ai_extract_vw\n",
    "WHERE pricing_model IS NOT NULL\n",
    "GROUP BY pricing_model\n",
    "ORDER BY receipt_count DESC\n",
    "\"\"\").to_pandas()\n"
   ],
   "id": "ce110000-1111-2222-3333-ffffff000030"
  },
  {
   "cell_type": "markdown",
   "metadata": {
    "name": "cell33",
    "collapsed": false
   },
   "source": "## Summary\n\n### What We've Accomplished:\n\n1. ✅ **Structured Extraction**: Used AI_EXTRACT with responseFormat schema to extract structured data\n2. ✅ **Analytics View**: Created `receipt_analytics_ai_extract_vw` with flattened, queryable data\n3. ✅ **Generated Insights**: Analyzed spending, performance, and campaign metrics\n\n### Key Metrics Captured:\n- **Financial**: Subtotal, tax, total amounts\n- **Performance**: CPM, CTR, Bounce Rate\n- **Campaign**: Display formats, video placements, targeting\n- **Budget**: Daily and total campaign budgets\n\n### AI_EXTRACT with responseFormat Advantages:\n- ✅ **Structured Schema**: Define exact output structure with nested objects\n- ✅ **Type Safety**: Specify field types for consistent data\n- ✅ **Guided Extraction**: Use descriptions to help AI understand fields\n- ✅ **Cleaner Data**: Hierarchical structure (vendor, transaction, campaign, etc.)\n\n### Tables & Views Created:\n1. `parsed_receipts` - Raw parsed text from PDFs (shared with AI_COMPLETE approach)\n2. `extracted_receipt_data_via_ai_extract` - Structured data extracted with AI_EXTRACT + responseFormat\n3. `receipt_analytics_ai_extract_vw` - Flattened, analytics-ready view\n\n---\n\n**Your receipt data is now structured with AI_EXTRACT + responseFormat, queryable, and ready for analysis!** 📊",
   "id": "ce110000-1111-2222-3333-ffffff000032"
  }
 ]
}