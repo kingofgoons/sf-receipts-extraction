{
 "metadata": {
  "language_info": {
   "name": "python"
  },
  "lastEditStatus": {
   "notebookId": "dp2ndghbrmfuc4dxrdoa",
   "authorId": "47643210579",
   "authorName": "ADMIN",
   "authorEmail": "bo.landsman@snowflake.com",
   "sessionId": "a4eefb3b-d257-438c-a63a-2ebfb0ae5fb8",
   "lastEditTime": 1761243550721
  }
 },
 "nbformat_minor": 2,
 "nbformat": 4,
 "cells": [
  {
   "cell_type": "markdown",
   "metadata": {
    "name": "cell1",
    "collapsed": false
   },
   "source": [
    "# Receipt Data Extraction: Extracting Structured Data from Ad-Campaign Receipts\n",
    "\n",
    "## Overview\n",
    "This notebook demonstrates how to use Snowflake's Document AI capabilities to automatically extract structured information from ad-campaign receipt PDFs. We'll process receipts uploaded to our Snowflake stage and transform them into queryable structured data.\n",
    "\n",
    "## What We'll Accomplish\n",
    "- Parse PDF receipts from the `@RECEIPTS_PROCESSING_DB.RAW.RECEIPTS` stage using `AI_PARSE_DOCUMENT`\n",
    "- Extract structured receipt data (vendor, transaction details, campaign info, metrics) using `AI_COMPLETE` with a defined schema\n",
    "- Transform unstructured receipt content into structured, analyzable data\n",
    "\n",
    "## Prerequisites\n",
    "- Access to Snowflake with Cortex AI features enabled\n",
    "- Receipts uploaded to `@RECEIPTS_PROCESSING_DB.RAW.RECEIPTS` stage\n",
    "- RECEIPTS_PROCESSING_DB database and RAW schema configured\n",
    "- Appropriate permissions for the ETL service role\n"
   ],
   "id": "ce110000-1111-2222-3333-ffffff000000"
  },
  {
   "cell_type": "code",
   "execution_count": null,
   "metadata": {
    "name": "init_session",
    "language": "python",
    "collapsed": false,
    "codeCollapsed": false
   },
   "outputs": [],
   "source": [
    "# Import python packages\n",
    "import streamlit as st\n",
    "import pandas as pd\n",
    "\n",
    "# Use Snowpark for our analyses\n",
    "from snowflake.snowpark.context import get_active_session\n",
    "session = get_active_session()\n"
   ],
   "id": "ce110000-1111-2222-3333-ffffff000001"
  },
  {
   "cell_type": "markdown",
   "metadata": {
    "name": "cell3",
    "collapsed": false
   },
   "source": [
    "## Step 1: Environment Setup and Session Initialization\n",
    "\n",
    "Setting up our environment by importing necessary packages and establishing a Snowflake session.\n",
    "\n",
    "### Key Components:\n",
    "- **Streamlit**: For building interactive applications\n",
    "- **Pandas**: For data manipulation and analysis\n",
    "- **Snowpark Session**: Connection to Snowflake and access to Cortex AI capabilities\n",
    "\n",
    "The `get_active_session()` retrieves our Snowflake session for executing SQL and using AI features.\n"
   ],
   "id": "ce110000-1111-2222-3333-ffffff000002"
  },
  {
   "cell_type": "code",
   "execution_count": null,
   "metadata": {
    "name": "set_context",
    "language": "python",
    "collapsed": false,
    "codeCollapsed": false
   },
   "outputs": [],
   "source": "session.sql(\"USE ROLE SYSADMIN\").collect()\n\n# Set warehouse for AI processing\nsession.sql(\"USE WAREHOUSE RECEIPTS_PARSE_COMPLETE_WH\").collect()\n\nsession.sql(\"ALTER WAREHOUSE RECEIPTS_PARSE_COMPLETE_WH SET WAREHOUSE_SIZE='XSMALL'\").collect()\n\nsession.use_database('RECEIPTS_PROCESSING_DB')\nsession.use_schema('RAW')\n",
   "id": "ce110000-1111-2222-3333-ffffff000003"
  },
  {
   "cell_type": "markdown",
   "metadata": {
    "name": "cell5",
    "collapsed": false
   },
   "source": [
    "## Step 2: Set Database and Schema Context\n",
    "\n",
    "Setting the working context for our session:\n",
    "\n",
    "- **Database**: `RECEIPTS_PROCESSING_DB` - Our receipt processing database\n",
    "- **Schema**: `RAW` - The schema containing our receipts stage\n",
    "\n",
    "This ensures all operations execute within the correct context without needing to fully qualify object names.\n"
   ],
   "id": "ce110000-1111-2222-3333-ffffff000004"
  },
  {
   "cell_type": "code",
   "execution_count": null,
   "metadata": {
    "name": "imports",
    "language": "python",
    "collapsed": false,
    "codeCollapsed": false
   },
   "outputs": [],
   "source": "from pydantic import BaseModel, Field\nfrom typing import List, Optional\nimport json\n#from snowflake.cortex import complete, CompleteOptions\n#from snowflake.snowpark.functions import col, prompt, ai_complete\n",
   "id": "ce110000-1111-2222-3333-ffffff000005"
  },
  {
   "cell_type": "markdown",
   "metadata": {
    "name": "cell7",
    "collapsed": false
   },
   "source": [
    "## Step 3: Import AI and Processing Libraries\n",
    "\n",
    "Importing specialized libraries for document AI processing:\n",
    "\n",
    "### Key Imports:\n",
    "- **Pydantic**: For data validation and schema definition\n",
    "- **Snowflake Cortex**: Access to AI functions (`complete`, `CompleteOptions`)\n",
    "- **Snowpark Functions**: SQL functions including `ai_complete` and `prompt`\n",
    "- **JSON**: For handling structured data\n",
    "- **Typing**: For type hints (List, Optional)\n",
    "\n",
    "These libraries enable us to process receipt documents and extract structured information using large language models.\n"
   ],
   "id": "ce110000-1111-2222-3333-ffffff000006"
  },
  {
   "cell_type": "code",
   "execution_count": null,
   "metadata": {
    "vscode": {
     "languageId": "sql"
    },
    "name": "list_files",
    "language": "sql",
    "collapsed": false,
    "codeCollapsed": false
   },
   "outputs": [],
   "source": [
    "SELECT * FROM DIRECTORY(@RECEIPTS_PROCESSING_DB.RAW.RECEIPTS);\n"
   ],
   "id": "ce110000-1111-2222-3333-ffffff000007"
  },
  {
   "cell_type": "markdown",
   "metadata": {
    "name": "cell9",
    "collapsed": false
   },
   "source": [
    "## Step 4: Explore Available Receipts\n",
    "\n",
    "Before processing, let's see what receipt files are available in our stage.\n",
    "\n",
    "### What This Shows:\n",
    "- File names and paths of receipts ready for processing\n",
    "- File sizes and metadata\n",
    "- Upload timestamps\n",
    "\n",
    "The `DIRECTORY()` function provides a view of all files in the `@RECEIPTS_PROCESSING_DB.RAW.RECEIPTS` stage, essential for understanding our data source.\n"
   ],
   "id": "ce110000-1111-2222-3333-ffffff000008"
  },
  {
   "cell_type": "code",
   "execution_count": null,
   "metadata": {
    "name": "parse_receipts",
    "language": "python",
    "collapsed": false,
    "codeCollapsed": false
   },
   "outputs": [],
   "source": "session.sql(\"ALTER WAREHOUSE RECEIPTS_PARSE_COMPLETE_WH SET WAREHOUSE_SIZE='XXLARGE'\").collect()\n\ndocs_df = session.sql(\"\"\"\nCREATE OR REPLACE TRANSIENT TABLE parsed_receipts AS (\nSELECT\n    relative_path,\n    AI_PARSE_DOCUMENT(\n        to_file('@RECEIPTS_PROCESSING_DB.RAW.RECEIPTS', relative_path), \n        {'mode': 'layout'}\n    ):content AS content\nFROM DIRECTORY(@RECEIPTS_PROCESSING_DB.RAW.RECEIPTS)\n);\n\"\"\").collect()\n\nsession.sql(\"ALTER WAREHOUSE RECEIPTS_PARSE_COMPLETE_WH SET WAREHOUSE_SIZE='XSMALL'\").collect()",
   "id": "ce110000-1111-2222-3333-ffffff000009"
  },
  {
   "cell_type": "markdown",
   "metadata": {
    "name": "cell11",
    "collapsed": false
   },
   "source": [
    "## Step 5: Parse Receipt PDFs with AI_PARSE_DOCUMENT\n",
    "\n",
    "Using Snowflake's AI to extract text content from receipt PDFs.\n",
    "\n",
    "### What's Happening:\n",
    "1. **Create Table**: Creates `parsed_receipts` transient table to store results\n",
    "2. **AI_PARSE_DOCUMENT**: This function:\n",
    "   - Reads PDF files from `@RECEIPTS_PROCESSING_DB.RAW.RECEIPTS` stage\n",
    "   - Uses `'layout'` mode to preserve receipt structure\n",
    "   - Extracts text content including vendor info, line items, amounts, campaign details\n",
    "3. **Store Results**: Saves file path and extracted content for processing\n",
    "\n",
    "### Why Layout Mode?\n",
    "Layout mode preserves the receipt's visual structure (headers, tables, campaign details section), which helps the AI understand:\n",
    "- Vendor branding and headers\n",
    "- Line item tables with services and amounts\n",
    "- Campaign details section (display/video formats, metrics)\n",
    "- Total amounts and tax calculations\n"
   ],
   "id": "ce110000-1111-2222-3333-ffffff000010"
  },
  {
   "cell_type": "code",
   "execution_count": null,
   "metadata": {
    "name": "show_parsed_content",
    "language": "python",
    "collapsed": false,
    "codeCollapsed": false
   },
   "outputs": [],
   "source": "#session.table('parsed_receipts').to_pandas()\nsession.table('parsed_receipts').to_pandas().head()\n",
   "id": "ce110000-1111-2222-3333-ffffff000011"
  },
  {
   "cell_type": "markdown",
   "metadata": {
    "name": "cell13",
    "collapsed": false
   },
   "source": [
    "## Step 6: Preview Parsed Receipt Content\n",
    "\n",
    "Examining the parsed receipt data:\n",
    "\n",
    "- **relative_path**: Original receipt filename (e.g., `receipt_TechAds_Pro_20251020.pdf`)\n",
    "- **content**: Extracted text from the receipt PDF\n",
    "\n",
    "This verification ensures successful parsing and shows the text quality for extraction.\n"
   ],
   "id": "ce110000-1111-2222-3333-ffffff000012"
  },
  {
   "cell_type": "code",
   "execution_count": null,
   "metadata": {
    "name": "create_prompt",
    "language": "python",
    "collapsed": false,
    "codeCollapsed": false
   },
   "outputs": [],
   "source": "prompt_text = \"\"\"\n    CONCAT($$Analyze the ad-campaign receipt document provided and extract the following structured information:\n    \n    1. Vendor/Provider details (name, contact info)\n    2. Transaction information (ID, date, time, payment method)\n    3. Customer/Client information (name, company)\n    4. Campaign details (name, content types, ad formats, period start date, period end date)\n    5. Financial details (line items, subtotal, tax, total)\n    6. Campaign metrics (CPM, CTR, bounce rate, targets)\n    7. Targeting information (geography, demographics, devices)\n    \n    <document-content>$$, {0}, $$\n    </document-content>\n\n    <output-format>\n    Provide JSON output in the exact format specified in the response schema.\n    For any fields not found in the document, use an empty string.\n    For numeric fields, use numbers (not strings).\n    For arrays, provide empty arrays [] if no data is found.\n    </output-format>$$)\n\"\"\"\n",
   "id": "ce110000-1111-2222-3333-ffffff000013"
  },
  {
   "cell_type": "markdown",
   "metadata": {
    "name": "cell15",
    "collapsed": false
   },
   "source": [
    "## Step 7: Define Receipt Extraction Prompt\n",
    "\n",
    "Creating the instruction prompt to guide AI extraction from receipt documents.\n",
    "\n",
    "### Prompt Structure:\n",
    "- **Task Definition**: Clear instructions to analyze receipts and extract specific fields\n",
    "- **Document Content Placeholder**: `{0}` will be replaced with actual receipt text\n",
    "- **Output Format**: Explicit JSON structure requirements\n",
    "\n",
    "### Information to Extract:\n",
    "1. **Vendor Details**: Name, branding, contact information\n",
    "2. **Transaction Info**: Receipt ID, date, time, payment method\n",
    "3. **Customer Info**: Client name and company\n",
    "4. **Campaign Details**: Name, display/video formats, ad types\n",
    "5. **Financials**: Line items, subtotal, tax, total amount\n",
    "6. **Metrics**: CPM, CTR, bounce rate, target impressions/clicks\n",
    "7. **Targeting**: Geographic, demographic, device targeting\n",
    "\n",
    "This prompt instructs the AI model on exactly what data to extract and how to format the response.\n"
   ],
   "id": "ce110000-1111-2222-3333-ffffff000014"
  },
  {
   "cell_type": "markdown",
   "metadata": {
    "name": "cell16",
    "collapsed": false
   },
   "source": [
    "## Step 8: Define Response Schema for Receipt Extraction\n",
    "\n",
    "Defining the exact structure for extracted receipt data with all receipt-specific fields including vendor, transaction, campaign details, metrics (CPM, CTR, Bounce Rate), budget, targeting, and line items.\n"
   ],
   "id": "ce110000-1111-2222-3333-ffffff000015"
  },
  {
   "cell_type": "code",
   "execution_count": null,
   "metadata": {
    "name": "creat_response_schema",
    "language": "python",
    "collapsed": false,
    "codeCollapsed": false
   },
   "outputs": [],
   "source": "resp_schema = \"\"\"\n{\n    'type': 'json',\n    'schema': {\n        'type': 'object',\n        'properties': {\n            'vendor': {\n                'type': 'object',\n                'properties': {\n                    'vendor_name': {'type': 'string'}\n                },\n                'required': ['vendor_name']\n            },\n            'transaction': {\n                'type': 'object',\n                'properties': {\n                    'receipt_id': {'type': 'string'},\n                    'date': {'type': 'string'},\n                    'payment_method': {'type': 'string'}\n                },\n                'required': ['receipt_id', 'date', 'payment_method']\n            },\n            'customer': {\n                'type': 'object',\n                'properties': {\n                    'customer_name': {'type': 'string'},\n                    'company_name': {'type': 'string'}\n                },\n                'required': ['company_name']\n            },\n            'campaign': {\n                'type': 'object',\n                'properties': {\n                    'name': {'type': 'string'},\n                    'content_types': {'type': 'string'},\n                    'ad_formats': {'type': 'string'},\n                    'period_startdate': {'type': 'string'},\n                    'period_enddate': {'type': 'string'}\n                },\n                'required': ['name', 'content_types', 'ad_formats', 'period_startdate', 'period_enddate']\n            },\n            'financials': {\n                'type': 'object',\n                'properties': {\n                    'line_items': {'type': 'object'},\n                    'subtotal': {'type': 'number'},\n                    'tax': {'type': 'number'},\n                    'total': {'type': 'number'}\n                },\n                'required': ['total', 'line_items', 'subtotal', 'tax']\n            },\n            'metrics': {\n                'type': 'object',\n                'properties': {\n                    'cpm': {'type': 'number'},\n                    'ctr': {'type': 'number'},\n                    'bounce_rate': {'type': 'number'},\n                    'targets': {'type': 'string'},\n                    'pricing_model': {'type': 'string'}\n                },\n                'required': ['cpm', 'ctr', 'bounce_rate', 'targets', 'pricing_model']\n            },\n            'targeting': {\n                'type': 'object',\n                'properties': {\n                    'geography': {'type': 'string'},\n                    'demographics': {'type': 'string'},\n                    'age_range': {'type': 'string'},\n                    'devices': {'type': 'string'}\n                },\n                'required': ['geography', 'demographics', 'age_range', 'devices']\n            }\n        },\n        'required': ['vendor', 'transaction', 'customer', 'campaign', 'financials', 'metrics', 'targeting']\n    }\n}\n\"\"\"\n",
   "id": "ce110000-1111-2222-3333-ffffff000031"
  },
  {
   "cell_type": "code",
   "id": "9cf39f8a-cf3e-4067-9105-1b55883f981c",
   "metadata": {
    "language": "python",
    "name": "define_query",
    "collapsed": false,
    "codeCollapsed": false
   },
   "outputs": [],
   "source": "query = f\"\"\"\nCREATE OR REPLACE TABLE extracted_receipt_data AS(\n    select\n        content,\n        ai_complete(\n            model=>'claude-sonnet-4-5',\n            prompt=>{prompt_text.format('content')},\n            response_format=>{resp_schema}\n        ) as extracted_info\n    from parsed_receipts\n);\n\"\"\"",
   "execution_count": null
  },
  {
   "cell_type": "code",
   "id": "cfb8941a-fa22-4514-920c-1d679f899e78",
   "metadata": {
    "language": "python",
    "name": "execute_query",
    "codeCollapsed": false,
    "collapsed": false
   },
   "outputs": [],
   "source": "session.sql(query).collect()",
   "execution_count": null
  },
  {
   "cell_type": "markdown",
   "metadata": {
    "name": "cell18",
    "collapsed": false
   },
   "source": [
    "## Step 9: Extract Structured Data with AI_COMPLETE\n",
    "\n",
    "Using Snowflake's AI to extract structured receipt data. The AI reads each receipt and extracts vendor details, transaction info, campaign details (display/video formats), financial totals, performance metrics (CPM, CTR, Bounce Rate), targeting parameters, and line items into structured JSON.\n"
   ],
   "id": "ce110000-1111-2222-3333-ffffff000017"
  },
  {
   "cell_type": "code",
   "execution_count": null,
   "metadata": {
    "name": "view_extracted_data",
    "language": "python",
    "collapsed": false,
    "codeCollapsed": false
   },
   "outputs": [],
   "source": "# View the extracted data\nresult_df = session.table('extracted_receipt_data').to_pandas()\nresult_df.head()\n",
   "id": "ce110000-1111-2222-3333-ffffff000018"
  },
  {
   "cell_type": "markdown",
   "metadata": {
    "name": "cell20",
    "collapsed": false
   },
   "source": [
    "## Step 10: Preview Extracted Receipt Data\n",
    "\n",
    "Each row contains a complete structured representation of a receipt with all extracted fields in JSON format, ready for flattening and analysis.\n"
   ],
   "id": "ce110000-1111-2222-3333-ffffff000019"
  },
  {
   "cell_type": "code",
   "execution_count": null,
   "metadata": {
    "name": "preview_flattened",
    "language": "python",
    "collapsed": false,
    "codeCollapsed": false
   },
   "outputs": [],
   "source": [
    "# Parse and flatten the JSON data for analysis\n",
    "flattened_df = session.sql(\"\"\"\n",
    "SELECT\n",
    "    relative_path,\n",
    "    extracted_data:vendor.vendor_name::STRING AS vendor_name,\n",
    "    extracted_data:transaction.receipt_id::STRING AS receipt_id,\n",
    "    extracted_data:transaction.date::STRING AS transaction_date,\n",
    "    extracted_data:customer.company_name::STRING AS company_name,\n",
    "    extracted_data:campaign.campaign_name::STRING AS campaign_name,\n",
    "    extracted_data:campaign.content_types::STRING AS content_types,\n",
    "    extracted_data:financials.total::NUMBER AS total_amount,\n",
    "    extracted_data:metrics.cpm::NUMBER AS cpm,\n",
    "    extracted_data:metrics.ctr::NUMBER AS ctr,\n",
    "    extracted_data:metrics.bounce_rate::NUMBER AS bounce_rate,\n",
    "    extracted_data:metrics.pricing_model::STRING AS pricing_model,\n",
    "    extracted_data:budget.daily_budget::NUMBER AS daily_budget,\n",
    "    extracted_data:budget.total_budget::NUMBER AS total_budget\n",
    "FROM extracted_receipt_data\n",
    "\"\"\").to_pandas()\n",
    "\n",
    "flattened_df.head(10)\n"
   ],
   "id": "ce110000-1111-2222-3333-ffffff000020"
  },
  {
   "cell_type": "markdown",
   "metadata": {
    "name": "cell22",
    "collapsed": false
   },
   "source": [
    "## Step 11: Flatten and Query Extracted Data\n",
    "\n",
    "Converting nested JSON into a flat table showing key receipt fields including vendor, transaction date, campaign details, total amount, and performance metrics (CPM, CTR, Bounce Rate).\n"
   ],
   "id": "ce110000-1111-2222-3333-ffffff000021"
  },
  {
   "cell_type": "code",
   "execution_count": null,
   "metadata": {
    "name": "flatten_to_table",
    "language": "python",
    "collapsed": false,
    "codeCollapsed": false
   },
   "outputs": [],
   "source": [
    "# Create a permanent table with flattened receipt data\n",
    "session.sql(\"\"\"\n",
    "CREATE OR REPLACE TABLE receipt_analytics AS\n",
    "SELECT\n",
    "    relative_path AS receipt_filename,\n",
    "    extracted_data:vendor.vendor_name::STRING AS vendor_name,\n",
    "    extracted_data:transaction.receipt_id::STRING AS receipt_id,\n",
    "    TRY_TO_DATE(extracted_data:transaction.date::STRING) AS transaction_date,\n",
    "    extracted_data:customer.company_name::STRING AS company_name,\n",
    "    extracted_data:customer.customer_name::STRING AS customer_name,\n",
    "    extracted_data:campaign.campaign_name::STRING AS campaign_name,\n",
    "    extracted_data:campaign.content_types::STRING AS content_types,\n",
    "    extracted_data:campaign.display_formats AS display_formats,\n",
    "    extracted_data:campaign.video_formats AS video_formats,\n",
    "    TRY_TO_DATE(extracted_data:campaign.campaign_start_date::STRING) AS campaign_start_date,\n",
    "    TRY_TO_DATE(extracted_data:campaign.campaign_end_date::STRING) AS campaign_end_date,\n",
    "    extracted_data:campaign.campaign_duration_days::NUMBER AS campaign_duration_days,\n",
    "    extracted_data:financials.subtotal::NUMBER AS subtotal,\n",
    "    extracted_data:financials.tax::NUMBER AS tax,\n",
    "    extracted_data:financials.total::NUMBER AS total_amount,\n",
    "    extracted_data:metrics.cpm::NUMBER AS cpm,\n",
    "    extracted_data:metrics.ctr::NUMBER AS ctr_percent,\n",
    "    extracted_data:metrics.bounce_rate::NUMBER AS bounce_rate_percent,\n",
    "    extracted_data:metrics.pricing_model::STRING AS pricing_model,\n",
    "    extracted_data:metrics.target_impressions::NUMBER AS target_impressions,\n",
    "    extracted_data:metrics.target_clicks::NUMBER AS target_clicks,\n",
    "    extracted_data:budget.daily_budget::NUMBER AS daily_budget,\n",
    "    extracted_data:budget.total_budget::NUMBER AS campaign_budget,\n",
    "    extracted_data:targeting.geographic_targets AS geographic_targets,\n",
    "    extracted_data:targeting.age_range::STRING AS age_range,\n",
    "    extracted_data:targeting.devices::STRING AS devices,\n",
    "    extracted_data:line_items AS line_items_json,\n",
    "    CURRENT_TIMESTAMP() AS processed_at\n",
    "FROM extracted_receipt_data\n",
    "\"\"\").collect()\n",
    "\n",
    "print(\"✓ receipt_analytics table created successfully!\")\n"
   ],
   "id": "ce110000-1111-2222-3333-ffffff000022"
  },
  {
   "cell_type": "markdown",
   "metadata": {
    "name": "cell24",
    "collapsed": false
   },
   "source": [
    "## Step 12: Create Analytics Table\n",
    "\n",
    "Creating a permanent, flattened table for receipt analytics with proper type conversion, descriptive column names, and processing timestamp. Ready for dashboards and reporting!\n"
   ],
   "id": "ce110000-1111-2222-3333-ffffff000023"
  },
  {
   "cell_type": "code",
   "execution_count": null,
   "metadata": {
    "name": "analyze_spending_by_vendor",
    "language": "python",
    "collapsed": false,
    "codeCollapsed": false
   },
   "outputs": [],
   "source": [
    "# Example analytics: Spending by vendor\n",
    "session.sql(\"\"\"\n",
    "SELECT \n",
    "    vendor_name,\n",
    "    COUNT(*) AS receipt_count,\n",
    "    SUM(total_amount) AS total_spending,\n",
    "    AVG(total_amount) AS avg_receipt_amount,\n",
    "    AVG(cpm) AS avg_cpm,\n",
    "    AVG(ctr_percent) AS avg_ctr\n",
    "FROM receipt_analytics\n",
    "GROUP BY vendor_name\n",
    "ORDER BY total_spending DESC\n",
    "\"\"\").to_pandas()\n"
   ],
   "id": "ce110000-1111-2222-3333-ffffff000024"
  },
  {
   "cell_type": "markdown",
   "metadata": {
    "name": "cell26",
    "collapsed": false
   },
   "source": [
    "## Step 13: Analyze Spending by Vendor\n",
    "\n",
    "Analyzing receipt count, total spending, average amounts, and performance metrics (CPM, CTR) by vendor to identify top advertising partners and their performance.\n"
   ],
   "id": "ce110000-1111-2222-3333-ffffff000025"
  },
  {
   "cell_type": "code",
   "execution_count": null,
   "metadata": {
    "name": "analysis_by_content_type",
    "language": "python",
    "collapsed": false,
    "codeCollapsed": false
   },
   "outputs": [],
   "source": [
    "# Campaign type analysis\n",
    "session.sql(\"\"\"\n",
    "SELECT \n",
    "    content_types,\n",
    "    COUNT(*) AS campaign_count,\n",
    "    AVG(total_amount) AS avg_spending,\n",
    "    AVG(cpm) AS avg_cpm,\n",
    "    AVG(ctr_percent) AS avg_ctr,\n",
    "    AVG(bounce_rate_percent) AS avg_bounce_rate\n",
    "FROM receipt_analytics\n",
    "WHERE content_types IS NOT NULL\n",
    "GROUP BY content_types\n",
    "ORDER BY campaign_count DESC\n",
    "\"\"\").to_pandas()\n"
   ],
   "id": "ce110000-1111-2222-3333-ffffff000026"
  },
  {
   "cell_type": "markdown",
   "metadata": {
    "name": "cell28",
    "collapsed": false
   },
   "source": [
    "## Step 14: Analyze by Campaign Content Type\n",
    "\n",
    "Comparing performance between Display, Video, and mixed campaigns to optimize content strategy and budget allocation.\n"
   ],
   "id": "ce110000-1111-2222-3333-ffffff000027"
  },
  {
   "cell_type": "code",
   "execution_count": null,
   "metadata": {
    "name": "analysis_by_pricing_model",
    "language": "python",
    "collapsed": false,
    "codeCollapsed": false
   },
   "outputs": [],
   "source": [
    "# Performance metrics by pricing model\n",
    "session.sql(\"\"\"\n",
    "SELECT \n",
    "    pricing_model,\n",
    "    COUNT(*) AS receipt_count,\n",
    "    AVG(cpm) AS avg_cpm,\n",
    "    AVG(ctr_percent) AS avg_ctr,\n",
    "    AVG(bounce_rate_percent) AS avg_bounce_rate,\n",
    "    SUM(total_amount) AS total_spending\n",
    "FROM receipt_analytics\n",
    "WHERE pricing_model IS NOT NULL\n",
    "GROUP BY pricing_model\n",
    "ORDER BY receipt_count DESC\n",
    "\"\"\").to_pandas()\n"
   ],
   "id": "ce110000-1111-2222-3333-ffffff000028"
  },
  {
   "cell_type": "markdown",
   "metadata": {
    "name": "cell30",
    "collapsed": false
   },
   "source": [
    "## Step 15: Analyze by Pricing Model\n",
    "\n",
    "Understanding performance across different pricing models (CPM, CPC, CPA, CPV, Flat Rate) to determine which delivers the best ROI.\n"
   ],
   "id": "ce110000-1111-2222-3333-ffffff000029"
  },
  {
   "cell_type": "markdown",
   "metadata": {
    "name": "cell31",
    "collapsed": false
   },
   "source": [
    "## Summary\n",
    "\n",
    "### What We've Accomplished:\n",
    "\n",
    "1. ✅ **Parsed Receipts**: Extracted text from PDF receipts using AI_PARSE_DOCUMENT\n",
    "2. ✅ **Structured Extraction**: Converted unstructured receipts to structured JSON using AI_COMPLETE\n",
    "3. ✅ **Analytics Table**: Created `receipt_analytics` table with flattened, queryable data\n",
    "4. ✅ **Generated Insights**: Analyzed spending, performance, and campaign metrics\n",
    "\n",
    "### Key Metrics Captured:\n",
    "- **Financial**: Subtotal, tax, total amounts\n",
    "- **Performance**: CPM, CTR, Bounce Rate\n",
    "- **Campaign**: Display formats, video placements, targeting\n",
    "- **Budget**: Daily and total campaign budgets\n",
    "\n",
    "### Next Steps:\n",
    "- Build dashboards on `receipt_analytics` table\n",
    "- Create automated alerts for unusual spending\n",
    "- Analyze trends over time\n",
    "- Compare vendor performance\n",
    "- Optimize campaign strategies based on metrics\n",
    "\n",
    "### Tables Created:\n",
    "1. `parsed_receipts` - Raw parsed text from PDFs\n",
    "2. `extracted_receipt_data` - Structured JSON extraction\n",
    "3. `receipt_analytics` - Flattened, analytics-ready table\n",
    "\n",
    "---\n",
    "\n",
    "**Your receipt data is now structured, queryable, and ready for analysis!** 📊\n"
   ],
   "id": "ce110000-1111-2222-3333-ffffff000030"
  },
  {
   "cell_type": "markdown",
   "metadata": {
    "name": "cell33",
    "collapsed": false
   },
   "source": [],
   "id": "ce110000-1111-2222-3333-ffffff000032"
  }
 ]
}