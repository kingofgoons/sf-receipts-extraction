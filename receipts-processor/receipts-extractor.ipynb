{
 "cells": [
  {
   "cell_type": "markdown",
   "id": "ce110000-1111-2222-3333-ffffff000000",
   "metadata": {
    "collapsed": false,
    "name": "cell1"
   },
   "source": [
    "# Receipt Data Extraction: Extracting Structured Data from Ad-Campaign Receipts\n",
    "\n",
    "## Overview\n",
    "This notebook demonstrates how to use Snowflake's Document AI capabilities to automatically extract structured information from ad-campaign receipt PDFs. We'll process receipts uploaded to our Snowflake stage and transform them into queryable structured data.\n",
    "\n",
    "## What We'll Accomplish\n",
    "- Parse PDF receipts from the `@RECEIPTS_PROCESSING_DB.RAW.RECEIPTS` stage using `AI_PARSE_DOCUMENT`\n",
    "- Extract structured receipt data (vendor, transaction details, campaign info, metrics) using `AI_COMPLETE` with a defined schema\n",
    "- Transform unstructured receipt content into structured, analyzable data\n",
    "\n",
    "## Prerequisites\n",
    "- Access to Snowflake with Cortex AI features enabled\n",
    "- Receipts uploaded to `@RECEIPTS_PROCESSING_DB.RAW.RECEIPTS` stage\n",
    "- RECEIPTS_PROCESSING_DB database and RAW schema configured\n",
    "- Appropriate permissions for the ETL service role\n"
   ]
  },
  {
   "cell_type": "code",
   "execution_count": null,
   "id": "ce110000-1111-2222-3333-ffffff000001",
   "metadata": {
    "codeCollapsed": false,
    "collapsed": false,
    "language": "python",
    "name": "init_session"
   },
   "outputs": [],
   "source": [
    "# Import python packages\n",
    "import streamlit as st\n",
    "import pandas as pd\n",
    "\n",
    "# Use Snowpark for our analyses\n",
    "from snowflake.snowpark.context import get_active_session\n",
    "session = get_active_session()\n"
   ]
  },
  {
   "cell_type": "markdown",
   "id": "ce110000-1111-2222-3333-ffffff000002",
   "metadata": {
    "collapsed": false,
    "name": "cell3"
   },
   "source": [
    "## Step 1: Environment Setup and Session Initialization\n",
    "\n",
    "Setting up our environment by importing necessary packages and establishing a Snowflake session.\n",
    "\n",
    "### Key Components:\n",
    "- **Streamlit**: For building interactive applications\n",
    "- **Pandas**: For data manipulation and analysis\n",
    "- **Snowpark Session**: Connection to Snowflake and access to Cortex AI capabilities\n",
    "\n",
    "The `get_active_session()` retrieves our Snowflake session for executing SQL and using AI features.\n"
   ]
  },
  {
   "cell_type": "code",
   "execution_count": null,
   "id": "ce110000-1111-2222-3333-ffffff000003",
   "metadata": {
    "codeCollapsed": false,
    "collapsed": false,
    "language": "python",
    "name": "set_context"
   },
   "outputs": [],
   "source": [
    "session.sql(\"USE ROLE SYSADMIN\").collect()\n",
    "\n",
    "# Set warehouse for AI processing\n",
    "session.sql(\"USE WAREHOUSE RECEIPTS_PARSE_COMPLETE_WH\").collect()\n",
    "\n",
    "session.sql(\"ALTER WAREHOUSE RECEIPTS_PARSE_COMPLETE_WH SET WAREHOUSE_SIZE='XSMALL'\").collect()\n",
    "\n",
    "session.use_database('RECEIPTS_PROCESSING_DB')\n",
    "session.use_schema('RAW')\n"
   ]
  },
  {
   "cell_type": "markdown",
   "id": "ce110000-1111-2222-3333-ffffff000004",
   "metadata": {
    "collapsed": false,
    "name": "cell5"
   },
   "source": [
    "## Step 2: Set Database and Schema Context\n",
    "\n",
    "Setting the working context for our session:\n",
    "\n",
    "- **Database**: `RECEIPTS_PROCESSING_DB` - Our receipt processing database\n",
    "- **Schema**: `RAW` - The schema containing our receipts stage\n",
    "\n",
    "This ensures all operations execute within the correct context without needing to fully qualify object names.\n"
   ]
  },
  {
   "cell_type": "code",
   "execution_count": null,
   "id": "ce110000-1111-2222-3333-ffffff000005",
   "metadata": {
    "codeCollapsed": false,
    "collapsed": false,
    "language": "python",
    "name": "imports"
   },
   "outputs": [],
   "source": [
    "from pydantic import BaseModel, Field\n",
    "from typing import List, Optional\n",
    "import json\n",
    "#from snowflake.cortex import complete, CompleteOptions\n",
    "#from snowflake.snowpark.functions import col, prompt, ai_complete\n"
   ]
  },
  {
   "cell_type": "markdown",
   "id": "ce110000-1111-2222-3333-ffffff000006",
   "metadata": {
    "collapsed": false,
    "name": "cell7"
   },
   "source": [
    "## Step 3: Import AI and Processing Libraries\n",
    "\n",
    "Importing specialized libraries for document AI processing:\n",
    "\n",
    "### Key Imports:\n",
    "- **Pydantic**: For data validation and schema definition\n",
    "- **Snowflake Cortex**: Access to AI functions (`complete`, `CompleteOptions`)\n",
    "- **Snowpark Functions**: SQL functions including `ai_complete` and `prompt`\n",
    "- **JSON**: For handling structured data\n",
    "- **Typing**: For type hints (List, Optional)\n",
    "\n",
    "These libraries enable us to process receipt documents and extract structured information using large language models.\n"
   ]
  },
  {
   "cell_type": "code",
   "execution_count": null,
   "id": "ce110000-1111-2222-3333-ffffff000007",
   "metadata": {
    "codeCollapsed": false,
    "collapsed": false,
    "language": "sql",
    "name": "list_files",
    "vscode": {
     "languageId": "sql"
    }
   },
   "outputs": [],
   "source": [
    "--REMOVE @RECEIPTS_PROCESSING_DB.RAW.RECEIPTS; -- REMOVES ALL FILES FROM THE STAGE\n",
    "ALTER STAGE RECEIPTS_PROCESSING_DB.RAW.RECEIPTS REFRESH;\n",
    "SELECT * FROM DIRECTORY(@RECEIPTS_PROCESSING_DB.RAW.RECEIPTS);\n"
   ]
  },
  {
   "cell_type": "markdown",
   "id": "ce110000-1111-2222-3333-ffffff000008",
   "metadata": {
    "collapsed": false,
    "name": "cell9"
   },
   "source": [
    "## Step 4: Explore Available Receipts\n",
    "\n",
    "Before processing, let's see what receipt files are available in our stage.\n",
    "\n",
    "### What This Shows:\n",
    "- File names and paths of receipts ready for processing\n",
    "- File sizes and metadata\n",
    "- Upload timestamps\n",
    "\n",
    "The `DIRECTORY()` function provides a view of all files in the `@RECEIPTS_PROCESSING_DB.RAW.RECEIPTS` stage, essential for understanding our data source.\n"
   ]
  },
  {
   "cell_type": "code",
   "execution_count": null,
   "id": "ce110000-1111-2222-3333-ffffff000009",
   "metadata": {
    "codeCollapsed": false,
    "collapsed": false,
    "language": "python",
    "name": "parse_receipts"
   },
   "outputs": [],
   "source": [
    "# Probably unnecessary to change the warehouse size, as AI_PARSE_DOCUMENT runs on separate AI services infrastructure\n",
    "session.sql(\"ALTER WAREHOUSE RECEIPTS_PARSE_COMPLETE_WH SET WAREHOUSE_SIZE='MEDIUM'\").collect()\n",
    "\n",
    "# Create parsed_receipts table if it doesn't exist\n",
    "session.sql(\"\"\"\n",
    "CREATE TABLE IF NOT EXISTS parsed_receipts (\n",
    "    relative_path STRING,\n",
    "    content STRING\n",
    ")\n",
    "\"\"\").collect()\n",
    "\n",
    "# Only parse documents that haven't been parsed yet\n",
    "docs_df = session.sql(\"\"\"\n",
    "INSERT INTO parsed_receipts\n",
    "SELECT\n",
    "    relative_path,\n",
    "    AI_PARSE_DOCUMENT(\n",
    "        to_file('@RECEIPTS_PROCESSING_DB.RAW.RECEIPTS', relative_path), \n",
    "        {'mode': 'layout'}\n",
    "    ):content AS content\n",
    "FROM DIRECTORY(@RECEIPTS_PROCESSING_DB.RAW.RECEIPTS)\n",
    "WHERE relative_path NOT IN (SELECT relative_path FROM parsed_receipts)\n",
    "\"\"\").collect()\n",
    "\n",
    "print(f\"✓ Parsed {len(docs_df)} new receipt(s)\")\n",
    "\n",
    "session.sql(\"ALTER WAREHOUSE RECEIPTS_PARSE_COMPLETE_WH SET WAREHOUSE_SIZE='XSMALL'\").collect()"
   ]
  },
  {
   "cell_type": "markdown",
   "id": "ce110000-1111-2222-3333-ffffff000010",
   "metadata": {
    "collapsed": false,
    "name": "cell11"
   },
   "source": [
    "## Step 5: Parse Receipt PDFs with AI_PARSE_DOCUMENT (Incremental)\n",
    "\n",
    "Using Snowflake's AI to extract text content from receipt PDFs - only parsing new documents.\n",
    "\n",
    "### What's Happening:\n",
    "1. **Create Table If Not Exists**: Creates `parsed_receipts` table on first run (not transient)\n",
    "2. **Incremental Processing**: Only parses documents NOT already in `parsed_receipts` table\n",
    "3. **AI_PARSE_DOCUMENT**: This function:\n",
    "   - Reads PDF files from `@RECEIPTS_PROCESSING_DB.RAW.RECEIPTS` stage\n",
    "   - Uses `'layout'` mode to preserve receipt structure\n",
    "   - Extracts text content including vendor info, line items, amounts, campaign details\n",
    "4. **INSERT Results**: Adds only new parsed content to existing table\n",
    "\n",
    "### Benefits of Incremental Processing:\n",
    "- ✅ Avoids re-parsing already processed documents (saves time and costs)\n",
    "- ✅ Preserves existing parsed data\n",
    "- ✅ Only processes new receipts uploaded to stage\n",
    "- ✅ Can run repeatedly without duplicating work\n",
    "\n",
    "### Why Layout Mode?\n",
    "Layout mode preserves the receipt's visual structure (headers, tables, campaign details section), which helps the AI understand:\n",
    "- Vendor branding and headers\n",
    "- Line item tables with services and amounts\n",
    "- Campaign details section (display/video formats, metrics)\n",
    "- Total amounts and tax calculations\n"
   ]
  },
  {
   "cell_type": "code",
   "execution_count": null,
   "id": "ce110000-1111-2222-3333-ffffff000011",
   "metadata": {
    "codeCollapsed": false,
    "collapsed": false,
    "language": "python",
    "name": "show_parsed_content"
   },
   "outputs": [],
   "source": [
    "#session.table('parsed_receipts').to_pandas()\n",
    "session.table('parsed_receipts').to_pandas().head()\n"
   ]
  },
  {
   "cell_type": "markdown",
   "id": "ce110000-1111-2222-3333-ffffff000012",
   "metadata": {
    "collapsed": false,
    "name": "cell13"
   },
   "source": [
    "## Step 6: Preview Parsed Receipt Content\n",
    "\n",
    "Examining the parsed receipt data:\n",
    "\n",
    "- **relative_path**: Original receipt filename (e.g., `receipt_TechAds_Pro_20251020.pdf`)\n",
    "- **content**: Extracted text from the receipt PDF\n",
    "\n",
    "This verification ensures successful parsing and shows the text quality for extraction.\n"
   ]
  },
  {
   "cell_type": "code",
   "execution_count": null,
   "id": "ce110000-1111-2222-3333-ffffff000013",
   "metadata": {
    "codeCollapsed": false,
    "collapsed": false,
    "language": "python",
    "name": "create_prompt"
   },
   "outputs": [],
   "source": [
    "prompt_text = \"\"\"\n",
    "    CONCAT($$Analyze the ad-campaign receipt document provided and extract the following structured information:\n",
    "    \n",
    "    1. Vendor/Provider details (name, contact info)\n",
    "    2. Transaction information (ID, date, time, payment method)\n",
    "    3. Customer/Client information (name, company)\n",
    "    4. Campaign details (name, content types, ad formats, period start date, period end date)\n",
    "    5. Financial details (line items, subtotal, tax, total)\n",
    "    6. Campaign metrics (CPM, CTR, bounce rate %, targets)\n",
    "    7. Targeting information (geography, demographics, devices)\n",
    "    \n",
    "    <document-content>$$, {0}, $$\n",
    "    </document-content>\n",
    "\n",
    "    <output-format>\n",
    "    Provide JSON output in the exact format specified in the response schema.\n",
    "    For any fields not found in the document, use an empty string.\n",
    "    For numeric fields, use numbers (not strings).\n",
    "    For percentages, use whole numbers.\n",
    "    For arrays, provide empty arrays [] if no data is found.\n",
    "    </output-format>$$)\n",
    "\"\"\"\n"
   ]
  },
  {
   "cell_type": "markdown",
   "id": "ce110000-1111-2222-3333-ffffff000014",
   "metadata": {
    "collapsed": false,
    "name": "cell15"
   },
   "source": [
    "## Step 7: Define Receipt Extraction Prompt\n",
    "\n",
    "Creating the instruction prompt to guide AI extraction from receipt documents.\n",
    "\n",
    "### Prompt Structure:\n",
    "- **Task Definition**: Clear instructions to analyze receipts and extract specific fields\n",
    "- **Document Content Placeholder**: `{0}` will be replaced with actual receipt text\n",
    "- **Output Format**: Explicit JSON structure requirements\n",
    "\n",
    "### Information to Extract:\n",
    "1. **Vendor Details**: Name, branding, contact information\n",
    "2. **Transaction Info**: Receipt ID, date, time, payment method\n",
    "3. **Customer Info**: Client name and company\n",
    "4. **Campaign Details**: Name, display/video formats, ad types\n",
    "5. **Financials**: Line items, subtotal, tax, total amount\n",
    "6. **Metrics**: CPM, CTR, bounce rate, target impressions/clicks\n",
    "7. **Targeting**: Geographic, demographic, device targeting\n",
    "\n",
    "This prompt instructs the AI model on exactly what data to extract and how to format the response.\n"
   ]
  },
  {
   "cell_type": "markdown",
   "id": "ce110000-1111-2222-3333-ffffff000015",
   "metadata": {
    "collapsed": false,
    "name": "cell16"
   },
   "source": [
    "## Step 8: Define Response Schema for Receipt Extraction\n",
    "\n",
    "Defining the exact structure for extracted receipt data with all receipt-specific fields including vendor, transaction, campaign details, metrics (CPM, CTR, Bounce Rate), budget, targeting, and line items.\n"
   ]
  },
  {
   "cell_type": "code",
   "execution_count": null,
   "id": "ce110000-1111-2222-3333-ffffff000031",
   "metadata": {
    "codeCollapsed": false,
    "collapsed": false,
    "language": "python",
    "name": "creat_response_schema"
   },
   "outputs": [],
   "source": [
    "resp_schema = \"\"\"\n",
    "{\n",
    "    'type': 'json',\n",
    "    'schema': {\n",
    "        'type': 'object',\n",
    "        'properties': {\n",
    "            'vendor': {\n",
    "                'type': 'object',\n",
    "                'properties': {\n",
    "                    'vendor_name': {'type': 'string'}\n",
    "                },\n",
    "                'required': ['vendor_name']\n",
    "            },\n",
    "            'transaction': {\n",
    "                'type': 'object',\n",
    "                'properties': {\n",
    "                    'receipt_id': {'type': 'string'},\n",
    "                    'date': {'type': 'string'},\n",
    "                    'payment_method': {'type': 'string'}\n",
    "                },\n",
    "                'required': ['receipt_id', 'date', 'payment_method']\n",
    "            },\n",
    "            'customer': {\n",
    "                'type': 'object',\n",
    "                'properties': {\n",
    "                    'customer_name': {'type': 'string'},\n",
    "                    'company_name': {'type': 'string'}\n",
    "                },\n",
    "                'required': ['company_name']\n",
    "            },\n",
    "            'campaign': {\n",
    "                'type': 'object',\n",
    "                'properties': {\n",
    "                    'name': {'type': 'string'},\n",
    "                    'content_types': {'type': 'string'},\n",
    "                    'ad_formats': {'type': 'array'},\n",
    "                    'period_startdate': {'type': 'string'},\n",
    "                    'period_enddate': {'type': 'string'},\n",
    "                    'budget': {'type':'number'}\n",
    "                },\n",
    "                'required': ['name', 'content_types', 'ad_formats', 'period_startdate', 'period_enddate']\n",
    "            },\n",
    "            'financials': {\n",
    "                'type': 'object',\n",
    "                'properties': {\n",
    "                    'line_items': {'type': 'object'},\n",
    "                    'subtotal': {'type': 'number'},\n",
    "                    'tax': {'type': 'number'},\n",
    "                    'total': {'type': 'number'}\n",
    "                },\n",
    "                'required': ['total', 'line_items', 'subtotal', 'tax']\n",
    "            },\n",
    "            'metrics': {\n",
    "                'type': 'object',\n",
    "                'properties': {\n",
    "                    'cpm': {'type': 'string', 'description':'Cost Per Milli, abbreviated as CPM'},\n",
    "                    'ctr': {'type': 'string', 'description':'Click-through rate, abbreviated as CTR'},\n",
    "                    'bounce_rate': {'type': 'string', 'description':'Bounce Rate, sometimes just referred to as Bounce, a % value'},\n",
    "                    'targets': {'type': 'object'},\n",
    "                    'pricing_model': {'type': 'string'}\n",
    "                },\n",
    "                'required': ['cpm', 'ctr', 'bounce_rate', 'targets', 'pricing_model']\n",
    "            },\n",
    "            'budget':{\n",
    "                'type': 'object',\n",
    "                'properties': {\n",
    "                    'daily_budget': {'type': 'string'},\n",
    "                    'total_budget': {'type': 'string'}\n",
    "                },\n",
    "                'required': ['daily_budget', 'total_budget']\n",
    "            },\n",
    "            'targeting': {\n",
    "                'type': 'object',\n",
    "                'properties': {\n",
    "                    'geography': {'type': 'array'},\n",
    "                    'demographics': {'type': 'string'},\n",
    "                    'age_range': {'type': 'string'},\n",
    "                    'devices': {'type': 'string'}\n",
    "                },\n",
    "                'required': ['geography', 'demographics', 'age_range', 'devices']\n",
    "            }\n",
    "        },\n",
    "        'required': ['vendor', 'transaction', 'customer', 'campaign', 'financials', 'metrics', 'budget', 'targeting']\n",
    "    }\n",
    "}\n",
    "\"\"\"\n"
   ]
  },
  {
   "cell_type": "code",
   "execution_count": null,
   "id": "9cf39f8a-cf3e-4067-9105-1b55883f981c",
   "metadata": {
    "codeCollapsed": false,
    "collapsed": false,
    "language": "python",
    "name": "define_query"
   },
   "outputs": [],
   "source": [
    "# Create extracted_receipt_data table if it doesn't exist\n",
    "session.sql(\"\"\"\n",
    "CREATE TABLE IF NOT EXISTS extracted_receipt_data (\n",
    "    relative_path STRING,\n",
    "    content STRING,\n",
    "    extracted_data VARIANT\n",
    ")\n",
    "\"\"\").collect()\n",
    "\n",
    "# Only extract data from newly parsed receipts\n",
    "query = f\"\"\"\n",
    "INSERT INTO extracted_receipt_data\n",
    "SELECT\n",
    "    relative_path,\n",
    "    content,\n",
    "    ai_complete(\n",
    "        model=>'claude-sonnet-4-5',\n",
    "        prompt=>{prompt_text.format('content')},\n",
    "        response_format=>{resp_schema}\n",
    "    ) as extracted_data\n",
    "FROM parsed_receipts\n",
    "WHERE relative_path NOT IN (SELECT relative_path FROM extracted_receipt_data)\n",
    "\"\"\""
   ]
  },
  {
   "cell_type": "code",
   "execution_count": null,
   "id": "cfb8941a-fa22-4514-920c-1d679f899e78",
   "metadata": {
    "codeCollapsed": false,
    "collapsed": false,
    "language": "python",
    "name": "execute_query"
   },
   "outputs": [],
   "source": [
    "session.sql(query).collect()"
   ]
  },
  {
   "cell_type": "markdown",
   "id": "ce110000-1111-2222-3333-ffffff000017",
   "metadata": {
    "collapsed": false,
    "name": "cell18"
   },
   "source": [
    "## Step 9: Extract Structured Data with AI_COMPLETE (Incremental)\n",
    "\n",
    "Using Snowflake's AI to extract structured receipt data - only processing newly parsed receipts.\n",
    "\n",
    "### Incremental Extraction:\n",
    "- **CREATE TABLE IF NOT EXISTS**: Preserves existing extracted data\n",
    "- **INSERT INTO**: Adds only new extractions\n",
    "- **WHERE NOT IN**: Only processes receipts not already in extracted_receipt_data\n",
    "- **Saves Costs**: Avoids re-running expensive AI_COMPLETE on same receipts\n",
    "\n",
    "The AI reads each new receipt and extracts vendor details, transaction info, campaign details (display/video formats), financial totals, performance metrics (CPM, CTR, Bounce Rate), targeting parameters, and line items into structured JSON.\n"
   ]
  },
  {
   "cell_type": "code",
   "execution_count": null,
   "id": "ce110000-1111-2222-3333-ffffff000018",
   "metadata": {
    "codeCollapsed": false,
    "collapsed": false,
    "language": "python",
    "name": "view_extracted_data"
   },
   "outputs": [],
   "source": [
    "# View the extracted data\n",
    "result_df = session.table('extracted_receipt_data').to_pandas()\n",
    "result_df.head()\n"
   ]
  },
  {
   "cell_type": "markdown",
   "id": "ce110000-1111-2222-3333-ffffff000019",
   "metadata": {
    "collapsed": false,
    "name": "cell20"
   },
   "source": [
    "## Step 10: Preview Extracted Receipt Data\n",
    "\n",
    "Each row contains a complete structured representation of a receipt with all extracted fields in JSON format, ready for flattening and analysis.\n"
   ]
  },
  {
   "cell_type": "code",
   "execution_count": null,
   "id": "ce110000-1111-2222-3333-ffffff000020",
   "metadata": {
    "codeCollapsed": false,
    "collapsed": false,
    "language": "python",
    "name": "preview_flattened"
   },
   "outputs": [],
   "source": [
    "# Parse and flatten the JSON data for analysis\n",
    "flattened_df = session.sql(\"\"\"\n",
    "SELECT\n",
    "    relative_path,\n",
    "    extracted_data:vendor.vendor_name::STRING AS vendor_name,\n",
    "    extracted_data:transaction.receipt_id::STRING AS receipt_id,\n",
    "    extracted_data:transaction.date::DATE AS transaction_date,\n",
    "    extracted_data:transaction.payment_method::STRING AS payment_method,\n",
    "    extracted_data:customer.company_name::STRING AS company_name,\n",
    "    extracted_data:campaign.name::STRING AS campaign_name,\n",
    "    extracted_data:campaign.period_startdate::DATE AS period_startdate,\n",
    "    extracted_data:campaign.period_enddate::DATE AS period_enddate,\n",
    "    extracted_data:campaign.content_types::STRING AS content_types,\n",
    "    extracted_data:financials.total::NUMBER AS total_amount,\n",
    "    extracted_data:metrics.cpm::STRING AS cpm,\n",
    "    extracted_data:metrics.ctr::STRING AS ctr,\n",
    "    extracted_data:metrics.bounce_rate::STRING AS bounce_rate,\n",
    "    extracted_data:metrics.pricing_model::STRING AS pricing_model,\n",
    "    extracted_data:budget.daily_budget::STRING AS daily_budget,\n",
    "    extracted_data:budget.total_budget::STRING AS total_budget\n",
    "FROM extracted_receipt_data\n",
    "\"\"\").to_pandas()\n",
    "\n",
    "flattened_df.head(10)\n"
   ]
  },
  {
   "cell_type": "markdown",
   "id": "ce110000-1111-2222-3333-ffffff000021",
   "metadata": {
    "collapsed": false,
    "name": "cell22"
   },
   "source": [
    "## Step 11: Flatten and Query Extracted Data\n",
    "\n",
    "Converting nested JSON into a flat table showing key receipt fields including vendor, transaction date, campaign details, total amount, and performance metrics (CPM, CTR, Bounce Rate).\n"
   ]
  },
  {
   "cell_type": "code",
   "execution_count": null,
   "id": "ce110000-1111-2222-3333-ffffff000022",
   "metadata": {
    "codeCollapsed": false,
    "collapsed": false,
    "language": "python",
    "name": "flatten_to_table"
   },
   "outputs": [],
   "source": [
    "# Create a permanent table with flattened receipt data\n",
    "# Strip non-numeric characters ($, %, commas) before converting to numbers\n",
    "session.sql(\"\"\"\n",
    "CREATE VIEW receipt_analytics_vw if not exists AS\n",
    "SELECT\n",
    "    relative_path AS receipt_filename,\n",
    "    extracted_data:vendor.vendor_name::STRING AS vendor_name,\n",
    "    extracted_data:transaction.receipt_id::STRING AS receipt_id,\n",
    "    TRY_TO_DATE(extracted_data:transaction.date::STRING) AS transaction_date,\n",
    "    extracted_data:transaction.payment_method::STRING AS payment_method,\n",
    "    extracted_data:customer.company_name::STRING AS company_name,\n",
    "    extracted_data:customer.customer_name::STRING AS customer_name,\n",
    "    extracted_data:campaign.name::STRING AS campaign_name,\n",
    "    TRY_TO_DATE(extracted_data:campaign.period_startdate::STRING) AS period_startdate,\n",
    "    TRY_TO_DATE(extracted_data:campaign.period_enddate::STRING) AS period_enddate,\n",
    "    extracted_data:campaign.content_types::STRING AS content_types,\n",
    "    -- Strip $ and , from financial values and preserve decimals\n",
    "    TRY_TO_DECIMAL(REPLACE(REPLACE(extracted_data:financials.subtotal::STRING, '$', ''), ',', ''), 10, 2) AS subtotal,\n",
    "    TRY_TO_DECIMAL(REPLACE(REPLACE(extracted_data:financials.tax::STRING, '$', ''), ',', ''), 10, 2) AS tax,\n",
    "    TRY_TO_DECIMAL(REPLACE(REPLACE(extracted_data:financials.total::STRING, '$', ''), ',', ''), 10, 2) AS total_amount,\n",
    "    -- Strip $ from CPM and preserve decimals\n",
    "    TRY_TO_DECIMAL(REPLACE(extracted_data:metrics.cpm::STRING, '$', ''), 10, 2) AS cpm,\n",
    "    -- Strip % from CTR and Bounce Rate and preserve decimals\n",
    "    TRY_TO_DECIMAL(REPLACE(extracted_data:metrics.ctr::STRING, '%', ''), 10, 2) AS ctr_percent,\n",
    "    TRY_TO_DECIMAL(REPLACE(extracted_data:metrics.bounce_rate::STRING, '%', ''), 10, 2) AS bounce_rate_percent,\n",
    "    extracted_data:metrics.pricing_model::STRING AS pricing_model,\n",
    "    -- Strip $ and , from budget values and preserve decimals\n",
    "    TRY_TO_DECIMAL(REPLACE(REPLACE(extracted_data:budget.daily_budget::STRING, '$', ''), ',', ''), 10, 2) AS daily_budget,\n",
    "    TRY_TO_DECIMAL(REPLACE(REPLACE(extracted_data:budget.total_budget::STRING, '$', ''), ',', ''), 10, 2) AS campaign_budget,\n",
    "    -- Frequency cap stays as string (not numeric)\n",
    "    extracted_data:targeting.frequency_cap::STRING AS frequency_cap,\n",
    "    extracted_data:targeting.age_range::STRING AS age_range,\n",
    "    CURRENT_TIMESTAMP() AS processed_at\n",
    "FROM extracted_receipt_data\n",
    "\"\"\").collect()\n",
    "\n",
    "print(\"✓ receipt_analytics table created successfully!\")\n"
   ]
  },
  {
   "cell_type": "code",
   "execution_count": null,
   "metadata": {
    "vscode": {
     "languageId": "snowflake-sql"
    }
   },
   "outputs": [],
   "source": [
    "select * from receipt_analytics_vw limit 10;"
   ]
  },
  {
   "cell_type": "markdown",
   "id": "ce110000-1111-2222-3333-ffffff000023",
   "metadata": {
    "collapsed": false,
    "name": "cell24"
   },
   "source": [
    "## Step 12: Create Analytics Table\n",
    "\n",
    "Creating a permanent, flattened table for receipt analytics with proper type conversion, descriptive column names, and processing timestamp. Ready for dashboards and reporting!\n"
   ]
  },
  {
   "cell_type": "code",
   "execution_count": null,
   "id": "ce110000-1111-2222-3333-ffffff000024",
   "metadata": {
    "codeCollapsed": false,
    "collapsed": false,
    "language": "python",
    "name": "analyze_spending_by_vendor"
   },
   "outputs": [],
   "source": [
    "# Example analytics: Spending by vendor\n",
    "session.sql(\"\"\"\n",
    "SELECT \n",
    "    vendor_name,\n",
    "    COUNT(*) AS receipt_count,\n",
    "    SUM(total_amount) AS total_spending,\n",
    "    AVG(total_amount) AS avg_receipt_amount,\n",
    "    AVG(cpm) AS avg_cpm,\n",
    "    AVG(ctr_percent) AS avg_ctr\n",
    "FROM receipt_analytics_vw\n",
    "GROUP BY vendor_name\n",
    "ORDER BY total_spending DESC\n",
    "\"\"\").to_pandas()\n"
   ]
  },
  {
   "cell_type": "markdown",
   "id": "ce110000-1111-2222-3333-ffffff000025",
   "metadata": {
    "collapsed": false,
    "name": "cell26"
   },
   "source": [
    "## Step 13: Analyze Spending by Vendor\n",
    "\n",
    "Analyzing receipt count, total spending, average amounts, and performance metrics (CPM, CTR) by vendor to identify top advertising partners and their performance.\n"
   ]
  },
  {
   "cell_type": "code",
   "execution_count": null,
   "id": "ce110000-1111-2222-3333-ffffff000026",
   "metadata": {
    "codeCollapsed": false,
    "collapsed": false,
    "language": "python",
    "name": "analysis_by_content_type"
   },
   "outputs": [],
   "source": [
    "# Campaign type analysis\n",
    "session.sql(\"\"\"\n",
    "SELECT \n",
    "    content_types,\n",
    "    COUNT(*) AS campaign_count,\n",
    "    AVG(total_amount) AS avg_spending,\n",
    "    AVG(cpm) AS avg_cpm,\n",
    "    AVG(ctr_percent) AS avg_ctr,\n",
    "    AVG(bounce_rate_percent) AS avg_bounce_rate\n",
    "FROM receipt_analytics_vw\n",
    "WHERE content_types IS NOT NULL\n",
    "GROUP BY content_types\n",
    "ORDER BY campaign_count DESC\n",
    "\"\"\").to_pandas()\n"
   ]
  },
  {
   "cell_type": "markdown",
   "id": "ce110000-1111-2222-3333-ffffff000027",
   "metadata": {
    "collapsed": false,
    "name": "cell28"
   },
   "source": [
    "## Step 14: Analyze by Campaign Content Type\n",
    "\n",
    "Comparing performance between Display, Video, and mixed campaigns to optimize content strategy and budget allocation.\n"
   ]
  },
  {
   "cell_type": "code",
   "execution_count": null,
   "id": "ce110000-1111-2222-3333-ffffff000028",
   "metadata": {
    "codeCollapsed": false,
    "collapsed": false,
    "language": "python",
    "name": "analysis_by_pricing_model"
   },
   "outputs": [],
   "source": [
    "# Performance metrics by pricing model\n",
    "session.sql(\"\"\"\n",
    "SELECT \n",
    "    pricing_model,\n",
    "    COUNT(*) AS receipt_count,\n",
    "    AVG(cpm) AS avg_cpm,\n",
    "    AVG(ctr_percent) AS avg_ctr,\n",
    "    AVG(bounce_rate_percent) AS avg_bounce_rate,\n",
    "    SUM(total_amount) AS total_spending\n",
    "FROM receipt_analytics_vw\n",
    "WHERE pricing_model IS NOT NULL\n",
    "GROUP BY pricing_model\n",
    "ORDER BY receipt_count DESC\n",
    "\"\"\").to_pandas()\n"
   ]
  },
  {
   "cell_type": "markdown",
   "id": "ce110000-1111-2222-3333-ffffff000029",
   "metadata": {
    "collapsed": false,
    "name": "cell30"
   },
   "source": [
    "## Step 15: Analyze by Pricing Model\n",
    "\n",
    "Understanding performance across different pricing models (CPM, CPC, CPA, CPV, Flat Rate) to determine which delivers the best ROI.\n"
   ]
  },
  {
   "cell_type": "markdown",
   "id": "ce110000-1111-2222-3333-ffffff000030",
   "metadata": {
    "collapsed": false,
    "name": "cell31"
   },
   "source": [
    "## Summary\n",
    "\n",
    "### What We've Accomplished:\n",
    "\n",
    "1. ✅ **Parsed Receipts**: Extracted text from PDF receipts using AI_PARSE_DOCUMENT\n",
    "2. ✅ **Structured Extraction**: Converted unstructured receipts to structured JSON using AI_COMPLETE\n",
    "3. ✅ **Analytics Table**: Created `receipt_analytics` table with flattened, queryable data\n",
    "4. ✅ **Generated Insights**: Analyzed spending, performance, and campaign metrics\n",
    "\n",
    "### Key Metrics Captured:\n",
    "- **Financial**: Subtotal, tax, total amounts\n",
    "- **Performance**: CPM, CTR, Bounce Rate\n",
    "- **Campaign**: Display formats, video placements, targeting\n",
    "- **Budget**: Daily and total campaign budgets\n",
    "\n",
    "### Next Steps:\n",
    "- Build dashboards on `receipt_analytics` table\n",
    "- Create automated alerts for unusual spending\n",
    "- Analyze trends over time\n",
    "- Compare vendor performance\n",
    "- Optimize campaign strategies based on metrics\n",
    "\n",
    "### Tables Created:\n",
    "1. `parsed_receipts` - Raw parsed text from PDFs\n",
    "2. `extracted_receipt_data` - Structured JSON extraction\n",
    "3. `receipt_analytics` - Flattened, analytics-ready table\n",
    "\n",
    "---\n",
    "\n",
    "**Your receipt data is now structured, queryable, and ready for analysis!** 📊\n"
   ]
  },
  {
   "cell_type": "markdown",
   "id": "ce110000-1111-2222-3333-ffffff000032",
   "metadata": {
    "collapsed": false,
    "name": "cell33"
   },
   "source": []
  }
 ],
 "metadata": {
  "language_info": {
   "name": "python"
  },
  "lastEditStatus": {
   "authorEmail": "bo.landsman@snowflake.com",
   "authorId": "47643210579",
   "authorName": "ADMIN",
   "lastEditTime": 1761253070506,
   "notebookId": "dp2ndghbrmfuc4dxrdoa",
   "sessionId": "a4eefb3b-d257-438c-a63a-2ebfb0ae5fb8"
  }
 },
 "nbformat": 4,
 "nbformat_minor": 2
}
